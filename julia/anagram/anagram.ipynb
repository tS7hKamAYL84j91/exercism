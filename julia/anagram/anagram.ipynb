{
 "cells": [
  {
   "cell_type": "markdown",
   "metadata": {},
   "source": [
    "# Anagram\n",
    "\n",
    "Given a word and a list of possible anagrams, select the correct sublist.\n",
    "\n",
    "Given `\"listen\"` and a list of candidates like `\"enlists\" \"google\"\n",
    "\"inlets\" \"banana\"` the program should return a list containing\n",
    "`\"inlets\"`.\n",
    "## Source\n",
    "\n",
    "Inspired by the Extreme Startup game [https://github.com/rchatley/extreme_startup](https://github.com/rchatley/extreme_startup)\n",
    "\n",
    "\n",
    "## Version compatibility\n",
    "This exercise has been tested on Julia versions >=1.0.\n",
    "\n",
    "## Submitting Incomplete Solutions\n",
    "It's possible to submit an incomplete solution so you can see how others have completed the exercise.\n"
   ]
  },
  {
   "cell_type": "code",
   "execution_count": 16,
   "metadata": {},
   "outputs": [
    {
     "data": {
      "text/plain": [
       "detect_anagrams (generic function with 1 method)"
      ]
     },
     "execution_count": 16,
     "metadata": {},
     "output_type": "execute_result"
    }
   ],
   "source": [
    "# submit\n",
    "function detect_anagrams(subject::AbstractString, candidates::AbstractArray)\n",
    "    normalise(s) = s |> lowercase |> collect |> sort\n",
    "    isanagram(s₁, s₂) = lowercase(s₁)!= lowercase(s₂) && normalise(s₁) == normalise(s₂)\n",
    "    candidates |> cs ->  filter(c -> isanagram(subject, c), cs)    \n",
    "end"
   ]
  },
  {
   "cell_type": "code",
   "execution_count": 17,
   "metadata": {},
   "outputs": [
    {
     "name": "stdout",
     "output_type": "stream",
     "text": [
      "\u001b[37m\u001b[1mTest Summary: | \u001b[22m\u001b[39m\u001b[32m\u001b[1mPass  \u001b[22m\u001b[39m\u001b[36m\u001b[1mTotal\u001b[22m\u001b[39m\n",
      "no matches    | \u001b[32m   1  \u001b[39m\u001b[36m    1\u001b[39m\n",
      "\u001b[37m\u001b[1mTest Summary:          | \u001b[22m\u001b[39m\u001b[32m\u001b[1mPass  \u001b[22m\u001b[39m\u001b[36m\u001b[1mTotal\u001b[22m\u001b[39m\n",
      "detects simple anagram | \u001b[32m   1  \u001b[39m\u001b[36m    1\u001b[39m\n",
      "\u001b[37m\u001b[1mTest Summary:                   | \u001b[22m\u001b[39m\u001b[32m\u001b[1mPass  \u001b[22m\u001b[39m\u001b[36m\u001b[1mTotal\u001b[22m\u001b[39m\n",
      "does not detect false positives | \u001b[32m   1  \u001b[39m\u001b[36m    1\u001b[39m\n",
      "\u001b[37m\u001b[1mTest Summary:        | \u001b[22m\u001b[39m\u001b[32m\u001b[1mPass  \u001b[22m\u001b[39m\u001b[36m\u001b[1mTotal\u001b[22m\u001b[39m\n",
      "detects two anagrams | \u001b[32m   1  \u001b[39m\u001b[36m    1\u001b[39m\n",
      "\u001b[37m\u001b[1mTest Summary:                   | \u001b[22m\u001b[39m\u001b[32m\u001b[1mPass  \u001b[22m\u001b[39m\u001b[36m\u001b[1mTotal\u001b[22m\u001b[39m\n",
      "does not detect anagram subsets | \u001b[32m   1  \u001b[39m\u001b[36m    1\u001b[39m\n",
      "\u001b[37m\u001b[1mTest Summary:   | \u001b[22m\u001b[39m\u001b[32m\u001b[1mPass  \u001b[22m\u001b[39m\u001b[36m\u001b[1mTotal\u001b[22m\u001b[39m\n",
      "detects anagram | \u001b[32m   1  \u001b[39m\u001b[36m    1\u001b[39m\n",
      "\u001b[37m\u001b[1mTest Summary:          | \u001b[22m\u001b[39m\u001b[32m\u001b[1mPass  \u001b[22m\u001b[39m\u001b[36m\u001b[1mTotal\u001b[22m\u001b[39m\n",
      "detects three anagrams | \u001b[32m   1  \u001b[39m\u001b[36m    1\u001b[39m\n",
      "\u001b[37m\u001b[1mTest Summary:                   | \u001b[22m\u001b[39m\u001b[32m\u001b[1mPass  \u001b[22m\u001b[39m\u001b[36m\u001b[1mTotal\u001b[22m\u001b[39m\n",
      "does not detect identical words | \u001b[32m   1  \u001b[39m\u001b[36m    1\u001b[39m\n",
      "\u001b[37m\u001b[1mTest Summary:                                        | \u001b[22m\u001b[39m\u001b[32m\u001b[1mPass  \u001b[22m\u001b[39m\u001b[36m\u001b[1mTotal\u001b[22m\u001b[39m\n",
      "does not detect non-anagrams with identical checksum | \u001b[32m   1  \u001b[39m\u001b[36m    1\u001b[39m\n",
      "\u001b[37m\u001b[1mTest Summary:                       | \u001b[22m\u001b[39m\u001b[32m\u001b[1mPass  \u001b[22m\u001b[39m\u001b[36m\u001b[1mTotal\u001b[22m\u001b[39m\n",
      "detects anagrams case-insensitively | \u001b[32m   1  \u001b[39m\u001b[36m    1\u001b[39m\n",
      "\u001b[37m\u001b[1mTest Summary:                                   | \u001b[22m\u001b[39m\u001b[32m\u001b[1mPass  \u001b[22m\u001b[39m\u001b[36m\u001b[1mTotal\u001b[22m\u001b[39m\n",
      "detects anagrams using case-insensitive subject | \u001b[32m   1  \u001b[39m\u001b[36m    1\u001b[39m\n",
      "\u001b[37m\u001b[1mTest Summary:                                            | \u001b[22m\u001b[39m\u001b[32m\u001b[1mPass  \u001b[22m\u001b[39m\u001b[36m\u001b[1mTotal\u001b[22m\u001b[39m\n",
      "detects anagrams using case-insensitive possible matches | \u001b[32m   1  \u001b[39m\u001b[36m    1\u001b[39m\n",
      "\u001b[37m\u001b[1mTest Summary:                             | \u001b[22m\u001b[39m\u001b[32m\u001b[1mPass  \u001b[22m\u001b[39m\u001b[36m\u001b[1mTotal\u001b[22m\u001b[39m\n",
      "does not detect a word as its own anagram | \u001b[32m   1  \u001b[39m\u001b[36m    1\u001b[39m\n",
      "\u001b[37m\u001b[1mTest Summary:                                              | \u001b[22m\u001b[39m\u001b[32m\u001b[1mPass  \u001b[22m\u001b[39m\u001b[36m\u001b[1mTotal\u001b[22m\u001b[39m\n",
      "does not detect a anagram if the original word is repeated | \u001b[32m   1  \u001b[39m\u001b[36m    1\u001b[39m\n",
      "\u001b[37m\u001b[1mTest Summary:                              | \u001b[22m\u001b[39m\u001b[32m\u001b[1mPass  \u001b[22m\u001b[39m\u001b[36m\u001b[1mTotal\u001b[22m\u001b[39m\n",
      "anagrams must use all letters exactly once | \u001b[32m   1  \u001b[39m\u001b[36m    1\u001b[39m\n",
      "\u001b[37m\u001b[1mTest Summary:                   | \u001b[22m\u001b[39m\u001b[32m\u001b[1mPass  \u001b[22m\u001b[39m\u001b[36m\u001b[1mTotal\u001b[22m\u001b[39m\n",
      "capital word is not own anagram | \u001b[32m   1  \u001b[39m\u001b[36m    1\u001b[39m\n"
     ]
    },
    {
     "data": {
      "text/plain": [
       "Test.DefaultTestSet(\"capital word is not own anagram\", Any[], 1, false)"
      ]
     },
     "execution_count": 17,
     "metadata": {},
     "output_type": "execute_result"
    }
   ],
   "source": [
    "# canonical data version: 1.3.0\n",
    "\n",
    "using Test\n",
    "\n",
    "# include(\"anagram.jl\")\n",
    "\n",
    "@testset \"no matches\" begin\n",
    "    @test detect_anagrams(\"diaper\", [\"hello\", \"world\", \"zombies\", \"pants\"]) == []\n",
    "end\n",
    "\n",
    "@testset \"detects simple anagram\" begin\n",
    "    @test detect_anagrams(\"ant\", [\"tan\", \"stand\", \"at\"]) == [\"tan\"]\n",
    "end\n",
    "\n",
    "@testset \"does not detect false positives\" begin\n",
    "    @test detect_anagrams(\"galea\", [\"eagle\"]) == []\n",
    "end\n",
    "\n",
    "@testset \"detects two anagrams\" begin\n",
    "    @test detect_anagrams(\"master\", [\"stream\", \"pigeon\", \"maters\"]) == [\"stream\", \"maters\"]\n",
    "end\n",
    "\n",
    "@testset \"does not detect anagram subsets\" begin\n",
    "    @test detect_anagrams(\"good\", [\"dog\", \"goody\"]) == []\n",
    "end\n",
    "\n",
    "@testset \"detects anagram\" begin\n",
    "    @test detect_anagrams(\"listen\", [\"enlists\", \"google\", \"inlets\", \"banana\"]) == [\"inlets\"]\n",
    "end\n",
    "\n",
    "@testset \"detects three anagrams\" begin\n",
    "    @test detect_anagrams(\"allergy\", [\"gallery\", \"ballerina\", \"regally\", \"clergy\", \"largely\", \"leading\"]) == [\"gallery\", \"regally\", \"largely\"]\n",
    "end\n",
    "\n",
    "@testset \"does not detect identical words\" begin\n",
    "    @test detect_anagrams(\"corn\", [\"corn\", \"dark\", \"Corn\", \"rank\", \"CORN\", \"cron\", \"park\"]) == [\"cron\"]\n",
    "end\n",
    "\n",
    "@testset \"does not detect non-anagrams with identical checksum\" begin\n",
    "    @test detect_anagrams(\"mass\", [\"last\"]) == []\n",
    "end\n",
    "\n",
    "@testset \"detects anagrams case-insensitively\" begin\n",
    "    @test detect_anagrams(\"Orchestra\", [\"cashregister\", \"Carthorse\", \"radishes\"]) == [\"Carthorse\"]\n",
    "end\n",
    "\n",
    "@testset \"detects anagrams using case-insensitive subject\" begin\n",
    "    @test detect_anagrams(\"Orchestra\", [\"cashregister\", \"carthorse\", \"radishes\"]) == [\"carthorse\"]\n",
    "end\n",
    "\n",
    "@testset \"detects anagrams using case-insensitive possible matches\" begin\n",
    "    @test detect_anagrams(\"orchestra\", [\"cashregister\", \"Carthorse\", \"radishes\"]) == [\"Carthorse\"]\n",
    "end\n",
    "\n",
    "@testset \"does not detect a word as its own anagram\" begin\n",
    "    @test detect_anagrams(\"banana\", [\"Banana\"]) == []\n",
    "end\n",
    "\n",
    "@testset \"does not detect a anagram if the original word is repeated\" begin\n",
    "    @test detect_anagrams(\"go\", [\"go Go GO\"]) == []\n",
    "end\n",
    "\n",
    "@testset \"anagrams must use all letters exactly once\" begin\n",
    "    @test detect_anagrams(\"tapper\", [\"patter\"]) == []\n",
    "end\n",
    "\n",
    "@testset \"capital word is not own anagram\" begin\n",
    "    @test detect_anagrams(\"BANANA\", [\"Banana\"]) == []\n",
    "end\n"
   ]
  },
  {
   "cell_type": "code",
   "execution_count": 18,
   "metadata": {},
   "outputs": [
    {
     "data": {
      "text/plain": [
       "303"
      ]
     },
     "execution_count": 18,
     "metadata": {},
     "output_type": "execute_result"
    }
   ],
   "source": [
    "# To submit your exercise, you need to save your solution in a file called anagram.jl before using the CLI.\n",
    "# You can either create it manually or use the following functions, which will automatically\n",
    "# save every notebook cell starting with `# submit` in that file.\n",
    "\n",
    "# Pkg.add(\"Exercism\")\n",
    "using Exercism\n",
    "Exercism.create_submission(\"anagram\")\n"
   ]
  },
  {
   "cell_type": "code",
   "execution_count": 5,
   "metadata": {},
   "outputs": [
    {
     "name": "stdout",
     "output_type": "stream",
     "text": [
      "search: \u001b[0m\u001b[1mf\u001b[22m\u001b[0m\u001b[1mi\u001b[22m\u001b[0m\u001b[1ml\u001b[22m\u001b[0m\u001b[1mt\u001b[22m\u001b[0m\u001b[1me\u001b[22m\u001b[0m\u001b[1mr\u001b[22m \u001b[0m\u001b[1mf\u001b[22m\u001b[0m\u001b[1mi\u001b[22m\u001b[0m\u001b[1ml\u001b[22m\u001b[0m\u001b[1mt\u001b[22m\u001b[0m\u001b[1me\u001b[22m\u001b[0m\u001b[1mr\u001b[22m! \u001b[0m\u001b[1mf\u001b[22m\u001b[0m\u001b[1mi\u001b[22me\u001b[0m\u001b[1ml\u001b[22md\u001b[0m\u001b[1mt\u001b[22myp\u001b[0m\u001b[1me\u001b[22m \u001b[0m\u001b[1mf\u001b[22m\u001b[0m\u001b[1mi\u001b[22me\u001b[0m\u001b[1ml\u001b[22md\u001b[0m\u001b[1mt\u001b[22myp\u001b[0m\u001b[1me\u001b[22ms\n",
      "\n"
     ]
    },
    {
     "data": {
      "text/latex": [
       "\\begin{verbatim}\n",
       "filter(f, a::AbstractArray)\n",
       "\\end{verbatim}\n",
       "Return a copy of \\texttt{a}, removing elements for which \\texttt{f} is \\texttt{false}. The function \\texttt{f} is passed one argument.\n",
       "\n",
       "\\section{Examples}\n",
       "\\begin{verbatim}\n",
       "julia> a = 1:10\n",
       "1:10\n",
       "\n",
       "julia> filter(isodd, a)\n",
       "5-element Array{Int64,1}:\n",
       " 1\n",
       " 3\n",
       " 5\n",
       " 7\n",
       " 9\n",
       "\\end{verbatim}\n",
       "\\rule{\\textwidth}{1pt}\n",
       "\\begin{verbatim}\n",
       "filter(f, d::AbstractDict)\n",
       "\\end{verbatim}\n",
       "Return a copy of \\texttt{d}, removing elements for which \\texttt{f} is \\texttt{false}. The function \\texttt{f} is passed \\texttt{key=>value} pairs.\n",
       "\n",
       "\\section{Examples}\n",
       "\\begin{verbatim}\n",
       "julia> d = Dict(1=>\"a\", 2=>\"b\")\n",
       "Dict{Int64,String} with 2 entries:\n",
       "  2 => \"b\"\n",
       "  1 => \"a\"\n",
       "\n",
       "julia> filter(p->isodd(p.first), d)\n",
       "Dict{Int64,String} with 1 entry:\n",
       "  1 => \"a\"\n",
       "\\end{verbatim}\n"
      ],
      "text/markdown": [
       "```\n",
       "filter(f, a::AbstractArray)\n",
       "```\n",
       "\n",
       "Return a copy of `a`, removing elements for which `f` is `false`. The function `f` is passed one argument.\n",
       "\n",
       "# Examples\n",
       "\n",
       "```jldoctest\n",
       "julia> a = 1:10\n",
       "1:10\n",
       "\n",
       "julia> filter(isodd, a)\n",
       "5-element Array{Int64,1}:\n",
       " 1\n",
       " 3\n",
       " 5\n",
       " 7\n",
       " 9\n",
       "```\n",
       "\n",
       "---\n",
       "\n",
       "```\n",
       "filter(f, d::AbstractDict)\n",
       "```\n",
       "\n",
       "Return a copy of `d`, removing elements for which `f` is `false`. The function `f` is passed `key=>value` pairs.\n",
       "\n",
       "# Examples\n",
       "\n",
       "```jldoctest\n",
       "julia> d = Dict(1=>\"a\", 2=>\"b\")\n",
       "Dict{Int64,String} with 2 entries:\n",
       "  2 => \"b\"\n",
       "  1 => \"a\"\n",
       "\n",
       "julia> filter(p->isodd(p.first), d)\n",
       "Dict{Int64,String} with 1 entry:\n",
       "  1 => \"a\"\n",
       "```\n"
      ],
      "text/plain": [
       "  \u001b[38;5;81mfilter\u001b[0m(\u001b[0m\u001b[39mf\u001b[0m\u001b[39m,\u001b[0m \u001b[0m\u001b[39ma\u001b[0m\u001b[38;5;81m::\u001b[0m\u001b[38;5;81mAbstractArray\u001b[0m\u001b[39m)\u001b[0m\u001b[39m\u001b[0m\n",
       "\n",
       "\n",
       "  Return a copy of \u001b[36ma\u001b[39m, removing elements for which \u001b[36mf\u001b[39m is \u001b[36mfalse\u001b[39m. The function \u001b[36mf\u001b[39m\n",
       "  is passed one argument.\n",
       "\n",
       "\u001b[1m  Examples\u001b[22m\n",
       "\u001b[1m  ≡≡≡≡≡≡≡≡≡≡\u001b[22m\n",
       "\n",
       "  \u001b[31;1mjulia> \u001b[0m\u001b[39ma\u001b[0m \u001b[0m\u001b[38;5;197m=\u001b[0m \u001b[0m\u001b[38;5;141m1\u001b[0m\u001b[38;5;197m:\u001b[0m\u001b[38;5;141m10\u001b[0m\n",
       "  \u001b[0m\u001b[39m\u001b[0m1:10\n",
       "  \n",
       "  \u001b[31;1mjulia> \u001b[0m\u001b[38;5;81mfilter\u001b[0m(\u001b[0m\u001b[39misodd\u001b[0m\u001b[39m,\u001b[0m \u001b[0m\u001b[39ma\u001b[0m\u001b[39m)\u001b[0m\n",
       "  \u001b[0m\u001b[39m\u001b[0m5-element Array{Int64,1}:\n",
       "   1\n",
       "   3\n",
       "   5\n",
       "   7\n",
       "   9\n",
       "\n",
       "\n",
       "  ────────────────────────────────────────────────────────────────────────────\n",
       "\n",
       "  \u001b[38;5;81mfilter\u001b[0m(\u001b[0m\u001b[39mf\u001b[0m\u001b[39m,\u001b[0m \u001b[0m\u001b[39md\u001b[0m\u001b[38;5;81m::\u001b[0m\u001b[38;5;81mAbstractDict\u001b[0m\u001b[39m)\u001b[0m\u001b[39m\u001b[0m\n",
       "\n",
       "\n",
       "  Return a copy of \u001b[36md\u001b[39m, removing elements for which \u001b[36mf\u001b[39m is \u001b[36mfalse\u001b[39m. The function \u001b[36mf\u001b[39m\n",
       "  is passed \u001b[36mkey=>value\u001b[39m pairs.\n",
       "\n",
       "\u001b[1m  Examples\u001b[22m\n",
       "\u001b[1m  ≡≡≡≡≡≡≡≡≡≡\u001b[22m\n",
       "\n",
       "  \u001b[31;1mjulia> \u001b[0m\u001b[39md\u001b[0m \u001b[0m\u001b[38;5;197m=\u001b[0m \u001b[0m\u001b[38;5;81mDict\u001b[0m(\u001b[0m\u001b[38;5;141m1\u001b[0m\u001b[38;5;197m=>\u001b[0m\u001b[38;5;208m\"a\"\u001b[0m\u001b[39m,\u001b[0m \u001b[0m\u001b[38;5;141m2\u001b[0m\u001b[38;5;197m=>\u001b[0m\u001b[38;5;208m\"b\"\u001b[0m\u001b[39m)\u001b[0m\n",
       "  \u001b[0m\u001b[39m\u001b[0mDict{Int64,String} with 2 entries:\n",
       "    2 => \"b\"\n",
       "    1 => \"a\"\n",
       "  \n",
       "  \u001b[31;1mjulia> \u001b[0m\u001b[38;5;81mfilter\u001b[0m(\u001b[0m\u001b[39mp\u001b[0m\u001b[38;5;197m->\u001b[0m\u001b[38;5;81misodd\u001b[0m(\u001b[0m\u001b[39mp\u001b[0m\u001b[38;5;197m.\u001b[0m\u001b[39mfirst\u001b[0m\u001b[39m)\u001b[0m\u001b[39m,\u001b[0m \u001b[0m\u001b[39md\u001b[0m\u001b[39m)\u001b[0m\n",
       "  \u001b[0m\u001b[39m\u001b[0mDict{Int64,String} with 1 entry:\n",
       "    1 => \"a\"\n"
      ]
     },
     "execution_count": 5,
     "metadata": {},
     "output_type": "execute_result"
    }
   ],
   "source": [
    "?filter"
   ]
  },
  {
   "cell_type": "code",
   "execution_count": null,
   "metadata": {
    "collapsed": true
   },
   "outputs": [],
   "source": []
  }
 ],
 "metadata": {
  "kernelspec": {
   "display_name": "Julia 1.1.0",
   "language": "julia",
   "name": "julia-1.1"
  },
  "language_info": {
   "file_extension": ".jl",
   "mimetype": "application/julia",
   "name": "julia",
   "version": "1.1.0"
  }
 },
 "nbformat": 4,
 "nbformat_minor": 2
}
