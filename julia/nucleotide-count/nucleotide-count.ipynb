{
 "cells": [
  {
   "cell_type": "markdown",
   "metadata": {},
   "source": [
    "# Nucleotide Count\n",
    "\n",
    "Given a single stranded DNA string, compute how many times each nucleotide occurs in the string.\n",
    "\n",
    "The genetic language of every living thing on the planet is DNA.\n",
    "DNA is a large molecule that is built from an extremely long sequence of individual elements called nucleotides.\n",
    "4 types exist in DNA and these differ only slightly and can be represented as the following symbols: 'A' for adenine, 'C' for cytosine, 'G' for guanine, and 'T' thymine.\n",
    "\n",
    "Here is an analogy:\n",
    "- twigs are to birds nests as\n",
    "- nucleotides are to DNA as\n",
    "- legos are to lego houses as\n",
    "- words are to sentences as...\n",
    "## Source\n",
    "\n",
    "The Calculating DNA Nucleotides_problem at Rosalind [http://rosalind.info/problems/dna/](http://rosalind.info/problems/dna/)\n",
    "\n",
    "\n",
    "## Version compatibility\n",
    "This exercise has been tested on Julia versions >=1.0.\n",
    "\n",
    "## Submitting Incomplete Solutions\n",
    "It's possible to submit an incomplete solution so you can see how others have completed the exercise.\n"
   ]
  },
  {
   "cell_type": "code",
   "execution_count": 15,
   "metadata": {},
   "outputs": [
    {
     "data": {
      "text/plain": [
       "count_nucleotides (generic function with 1 method)"
      ]
     },
     "execution_count": 15,
     "metadata": {},
     "output_type": "execute_result"
    }
   ],
   "source": [
    "# submit\n",
    "nucleotide_counter(acc, x) =  \n",
    "if (x in Base.keys(acc)) Base.merge(acc, Base.Dict(x => acc[x] + 1)) else throw(DomainError(nothing)) end\n",
    "\n",
    "function count_nucleotides(strand::AbstractString)\n",
    "    collect(strand) |> sort |> xs -> reduce(nucleotide_counter, xs,  init=Dict('A' => 0, 'C' => 0, 'G' => 0, 'T' => 0))\n",
    "end\n",
    "\n"
   ]
  },
  {
   "cell_type": "code",
   "execution_count": 16,
   "metadata": {},
   "outputs": [
    {
     "name": "stdout",
     "output_type": "stream",
     "text": [
      "\u001b[37m\u001b[1mTest Summary: | \u001b[22m\u001b[39m\u001b[32m\u001b[1mPass  \u001b[22m\u001b[39m\u001b[36m\u001b[1mTotal\u001b[22m\u001b[39m\n",
      "empty strand  | \u001b[32m   1  \u001b[39m\u001b[36m    1\u001b[39m\n",
      "\u001b[37m\u001b[1mTest Summary:                   | \u001b[22m\u001b[39m\u001b[32m\u001b[1mPass  \u001b[22m\u001b[39m\u001b[36m\u001b[1mTotal\u001b[22m\u001b[39m\n",
      "strand with repeated nucleotide | \u001b[32m   1  \u001b[39m\u001b[36m    1\u001b[39m\n",
      "\u001b[37m\u001b[1mTest Summary:                    | \u001b[22m\u001b[39m\u001b[32m\u001b[1mPass  \u001b[22m\u001b[39m\u001b[36m\u001b[1mTotal\u001b[22m\u001b[39m\n",
      "strand with multiple nucleotides | \u001b[32m   1  \u001b[39m\u001b[36m    1\u001b[39m\n",
      "\u001b[37m\u001b[1mTest Summary:                   | \u001b[22m\u001b[39m\u001b[32m\u001b[1mPass  \u001b[22m\u001b[39m\u001b[36m\u001b[1mTotal\u001b[22m\u001b[39m\n",
      "strand with invalid nucleotides | \u001b[32m   1  \u001b[39m\u001b[36m    1\u001b[39m\n"
     ]
    },
    {
     "data": {
      "text/plain": [
       "Test.DefaultTestSet(\"strand with invalid nucleotides\", Any[], 1, false)"
      ]
     },
     "execution_count": 16,
     "metadata": {},
     "output_type": "execute_result"
    }
   ],
   "source": [
    "using Test\n",
    "\n",
    "# include(\"nucleotide-count.jl\")\n",
    "\n",
    "@testset \"empty strand\" begin\n",
    "    @test count_nucleotides(\"\") == Dict('A' => 0, 'C' => 0, 'G' => 0, 'T' => 0)\n",
    "end\n",
    "\n",
    "@testset \"strand with repeated nucleotide\" begin\n",
    "    @test count_nucleotides(\"GGGGGGG\") == Dict('A' => 0, 'C' => 0, 'G' => 7, 'T' => 0)\n",
    "end\n",
    "\n",
    "@testset \"strand with multiple nucleotides\" begin\n",
    "    @test count_nucleotides(\"AGCTTTTCATTCTGACTGCAACGGGCAATATGTCTCTGTGTGGATTAAAAAAAGAGTGTCTGATAGCAGC\") == Dict('A' => 20, 'C' => 12, 'G' => 17, 'T' => 21)\n",
    "end\n",
    "\n",
    "@testset \"strand with invalid nucleotides\" begin\n",
    "    @test_throws DomainError count_nucleotides(\"AGXXACT\")\n",
    "end\n"
   ]
  },
  {
   "cell_type": "code",
   "execution_count": 1,
   "metadata": {},
   "outputs": [],
   "source": [
    "# To submit your exercise, you need to save your solution in a file called nucleotide-count.jl before using the CLI.\n",
    "# You can either create it manually or use the following functions, which will automatically\n",
    "# save every notebook cell starting with `# submit` in that file.\n",
    "\n",
    "#Pkg.add(\"Exercism\")\n",
    "using Exercism\n",
    "# Exercism.create_submission(\"nucleotide-count\")\n"
   ]
  },
  {
   "cell_type": "code",
   "execution_count": 11,
   "metadata": {},
   "outputs": [
    {
     "ename": "MethodError",
     "evalue": "MethodError: no method matching DomainError()\nClosest candidates are:\n  DomainError(!Matched::Any) at boot.jl:256\n  DomainError(!Matched::Any, !Matched::Any) at boot.jl:257",
     "output_type": "error",
     "traceback": [
      "MethodError: no method matching DomainError()\nClosest candidates are:\n  DomainError(!Matched::Any) at boot.jl:256\n  DomainError(!Matched::Any, !Matched::Any) at boot.jl:257",
      "",
      "Stacktrace:",
      " [1] nucleotide_counter(::Dict{Char,Int64}, ::Char) at ./In[9]:3",
      " [2] mapfoldl_impl(::typeof(identity), ::typeof(nucleotide_counter), ::NamedTuple{(:init,),Tuple{Dict{Char,Int64}}}, ::Array{Char,1}) at ./reduce.jl:49",
      " [3] #mapreduce at ./reduce.jl:72 [inlined]",
      " [4] #reduce#549 at ./reducedim.jl:348 [inlined]",
      " [5] #reduce at ./none:0 [inlined]",
      " [6] (::getfield(Main, Symbol(\"##11#12\")))(::Array{Char,1}) at ./In[9]:6",
      " [7] |> at ./operators.jl:813 [inlined]",
      " [8] count_nucleotides(::String) at ./In[9]:6",
      " [9] |>(::String, ::typeof(count_nucleotides)) at ./operators.jl:813",
      " [10] top-level scope at In[11]:1"
     ]
    }
   ],
   "source": [
    "\"AGXXACT\" |> count_nucleotides\n",
    "\n"
   ]
  },
  {
   "cell_type": "code",
   "execution_count": 14,
   "metadata": {},
   "outputs": [
    {
     "ename": "UndefVarError",
     "evalue": "UndefVarError: value not defined",
     "output_type": "error",
     "traceback": [
      "UndefVarError: value not defined",
      "",
      "Stacktrace:",
      " [1] top-level scope at In[14]:1"
     ]
    }
   ],
   "source": [
    "DomainError(value)"
   ]
  },
  {
   "cell_type": "code",
   "execution_count": null,
   "metadata": {
    "collapsed": true
   },
   "outputs": [],
   "source": []
  }
 ],
 "metadata": {
  "kernelspec": {
   "display_name": "Julia 1.1.0",
   "language": "julia",
   "name": "julia-1.1"
  },
  "language_info": {
   "file_extension": ".jl",
   "mimetype": "application/julia",
   "name": "julia",
   "version": "1.1.0"
  }
 },
 "nbformat": 4,
 "nbformat_minor": 2
}
