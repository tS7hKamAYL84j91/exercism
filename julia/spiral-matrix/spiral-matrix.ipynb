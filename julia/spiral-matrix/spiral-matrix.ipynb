{
 "cells": [
  {
   "cell_type": "markdown",
   "metadata": {},
   "source": [
    "# Spiral Matrix\n",
    "\n",
    "Given the size, return a square matrix of numbers in spiral order.\n",
    "\n",
    "The matrix should be filled with natural numbers, starting from 1\n",
    "in the top-left corner, increasing in an inward, clockwise spiral order,\n",
    "like these examples:\n",
    "\n",
    "###### Spiral matrix of size 3\n",
    "\n",
    "```text\n",
    "1 2 3\n",
    "8 9 4\n",
    "7 6 5\n",
    "```\n",
    "\n",
    "###### Spiral matrix of size 4\n",
    "\n",
    "```text\n",
    " 1  2  3 4\n",
    "12 13 14 5\n",
    "11 16 15 6\n",
    "10  9  8 7\n",
    "```\n",
    "## Source\n",
    "\n",
    "Reddit r/dailyprogrammer challenge #320 [Easy] Spiral Ascension. [https://www.reddit.com/r/dailyprogrammer/comments/6i60lr/20170619_challenge_320_easy_spiral_ascension/](https://www.reddit.com/r/dailyprogrammer/comments/6i60lr/20170619_challenge_320_easy_spiral_ascension/)\n",
    "\n",
    "\n",
    "## Version compatibility\n",
    "This exercise has been tested on Julia versions >=1.0.\n",
    "\n",
    "## Submitting Incomplete Solutions\n",
    "It's possible to submit an incomplete solution so you can see how others have completed the exercise.\n"
   ]
  },
  {
   "cell_type": "code",
   "execution_count": 213,
   "metadata": {},
   "outputs": [
    {
     "data": {
      "text/plain": [
       "spiral_matrix (generic function with 1 method)"
      ]
     },
     "execution_count": 213,
     "metadata": {},
     "output_type": "execute_result"
    }
   ],
   "source": [
    "# submit\n",
    "function spiral_printer(m)\n",
    "    right(m) = [m[1,:], m[2:end,end]]\n",
    "    shrink(m) = m[end:-1:2, end-1:-1:1]\n",
    "    shrinker(acc, m) = isempty(m) ? vcat(acc[1:end-1]...) : shrinker(vcat(acc, m |> right), shrink(m))\n",
    "    shrinker([],m)\n",
    "end\n",
    "\n",
    "\n",
    "\n",
    "function spiral_matrix(n::Int)\n",
    "    to_matrix(a) = reshape(a, n, n) |> transpose\n",
    "    \n",
    "    \n",
    "    (range(1,length=n^2)\n",
    "        |> to_matrix\n",
    "        |> spiral_printer\n",
    "        |> xs -> zip(xs, range(1,length=n^2))\n",
    "        |> collect\n",
    "        |> xs -> sort(xs, by=first) \n",
    "        |> xs -> map(last,xs) \n",
    "        |> to_matrix)\n",
    "end\n"
   ]
  },
  {
   "cell_type": "code",
   "execution_count": 214,
   "metadata": {},
   "outputs": [
    {
     "name": "stdout",
     "output_type": "stream",
     "text": [
      "\u001b[37m\u001b[1mTest Summary:          | \u001b[22m\u001b[39m\u001b[32m\u001b[1mPass  \u001b[22m\u001b[39m\u001b[36m\u001b[1mTotal\u001b[22m\u001b[39m\n",
      "Different valid values | \u001b[32m   6  \u001b[39m\u001b[36m    6\u001b[39m\n"
     ]
    },
    {
     "data": {
      "text/plain": [
       "Test.DefaultTestSet(\"Different valid values\", Any[DefaultTestSet(\"Empty spiral\", Any[], 1, false), DefaultTestSet(\"Trivial spiral\", Any[], 1, false), DefaultTestSet(\"Spiral of size 2\", Any[], 1, false), DefaultTestSet(\"Spiral of size 3\", Any[], 1, false), DefaultTestSet(\"Spiral of size 4\", Any[], 1, false), DefaultTestSet(\"Spiral of size 5\", Any[], 1, false)], 0, false)"
      ]
     },
     "execution_count": 214,
     "metadata": {},
     "output_type": "execute_result"
    }
   ],
   "source": [
    "using Test\n",
    "\n",
    "# include(\"spiral-matrix.jl\")\n",
    "\n",
    "\n",
    "@testset \"Different valid values\" begin\n",
    "    @testset \"Empty spiral\" begin\n",
    "        @test spiral_matrix(0) == Matrix{Int}(undef,0,0)\n",
    "    end\n",
    "    @testset \"Trivial spiral\" begin\n",
    "        @test spiral_matrix(1) == reshape([1],(1,1))\n",
    "    end\n",
    "    @testset \"Spiral of size 2\" begin\n",
    "        @test spiral_matrix(2) == [1 2; 4 3]\n",
    "    end\n",
    "    @testset \"Spiral of size 3\" begin\n",
    "        @test spiral_matrix(3) == [1 2 3; 8 9 4; 7 6 5]\n",
    "    end\n",
    "    @testset \"Spiral of size 4\" begin\n",
    "        @test spiral_matrix(4) == [1 2 3 4; 12 13 14 5; 11 16 15 6; 10 9 8 7]\n",
    "    end\n",
    "    @testset \"Spiral of size 5\" begin\n",
    "        @test spiral_matrix(5) == [1 2 3 4 5; 16 17 18 19 6; 15 24 25 20 7; 14 23 22 21 8; 13 12 11 10 9]\n",
    "    end\n",
    "end\n"
   ]
  },
  {
   "cell_type": "code",
   "execution_count": 1,
   "metadata": {
    "collapsed": true
   },
   "outputs": [],
   "source": [
    "# To submit your exercise, you need to save your solution in a file called spiral-matrix.jl before using the CLI.\n",
    "# You can either create it manually or use the following functions, which will automatically\n",
    "# save every notebook cell starting with `# submit` in that file.\n",
    "\n",
    "# Pkg.add(\"Exercism\")\n",
    "# using Exercism\n",
    "# Exercism.create_submission(\"spiral-matrix\")\n"
   ]
  },
  {
   "cell_type": "code",
   "execution_count": 2,
   "metadata": {},
   "outputs": [
    {
     "data": {
      "text/plain": [
       "0×0 Array{Int64,2}"
      ]
     },
     "execution_count": 2,
     "metadata": {},
     "output_type": "execute_result"
    }
   ],
   "source": [
    "Matrix{Int}(undef,0,0)"
   ]
  },
  {
   "cell_type": "code",
   "execution_count": 115,
   "metadata": {},
   "outputs": [
    {
     "data": {
      "text/plain": [
       "4×4 Array{Int64,2}:\n",
       "  1   2   3  4\n",
       " 12  13  14  5\n",
       " 11  16  15  6\n",
       " 10   9   8  7"
      ]
     },
     "execution_count": 115,
     "metadata": {},
     "output_type": "execute_result"
    }
   ],
   "source": [
    "m =  [1 2 3 4; 12 13 14 5; 11 16 15 6; 10 9 8 7]"
   ]
  },
  {
   "cell_type": "code",
   "execution_count": 116,
   "metadata": {},
   "outputs": [
    {
     "data": {
      "text/plain": [
       "2×2 Array{Int64,2}:\n",
       " 13  14\n",
       " 16  15"
      ]
     },
     "execution_count": 116,
     "metadata": {},
     "output_type": "execute_result"
    }
   ],
   "source": [
    "m[end:-1:2, end-1:-1:1][end:-1:2, end-1:-1:1]"
   ]
  },
  {
   "cell_type": "code",
   "execution_count": 206,
   "metadata": {},
   "outputs": [
    {
     "data": {
      "text/plain": [
       "spiralprinter (generic function with 1 method)"
      ]
     },
     "execution_count": 206,
     "metadata": {},
     "output_type": "execute_result"
    }
   ],
   "source": []
  },
  {
   "cell_type": "code",
   "execution_count": 121,
   "metadata": {},
   "outputs": [
    {
     "data": {
      "text/plain": [
       "8-element Array{Array{Int64,1},1}:\n",
       " [1, 2, 3, 4]\n",
       " [5, 6, 7]   \n",
       " [8, 9, 10]  \n",
       " [11, 12]    \n",
       " [13, 14]    \n",
       " [15]        \n",
       " [16]        \n",
       " []          "
      ]
     },
     "execution_count": 121,
     "metadata": {},
     "output_type": "execute_result"
    }
   ],
   "source": [
    "vcat([right(m), right(m[end:-1:2, end-1:-1:1]), right(m[end:-1:2, end-1:-1:1][end:-1:2, end-1:-1:1]),\n",
    "right(m[end:-1:2, end-1:-1:1][end:-1:2, end-1:-1:1][end:-1:2, end-1:-1:1])]...)"
   ]
  },
  {
   "cell_type": "code",
   "execution_count": 129,
   "metadata": {},
   "outputs": [
    {
     "data": {
      "text/plain": [
       "1×1 Array{Int64,2}:\n",
       " 16"
      ]
     },
     "execution_count": 129,
     "metadata": {},
     "output_type": "execute_result"
    }
   ],
   "source": [
    "shrink(m) |> shrink |> shrink"
   ]
  },
  {
   "cell_type": "code",
   "execution_count": 187,
   "metadata": {},
   "outputs": [
    {
     "data": {
      "text/plain": [
       "4×4 Array{Int64,2}:\n",
       "  1   2   3  4\n",
       " 12  13  14  5\n",
       " 11  16  15  6\n",
       " 10   9   8  7"
      ]
     },
     "execution_count": 187,
     "metadata": {},
     "output_type": "execute_result"
    }
   ],
   "source": [
    "m\n",
    "\n",
    "\n"
   ]
  },
  {
   "cell_type": "code",
   "execution_count": 176,
   "metadata": {},
   "outputs": [
    {
     "data": {
      "text/plain": [
       "4×4 LinearAlgebra.Transpose{Int64,Base.ReshapedArray{Int64,2,UnitRange{Int64},Tuple{}}}:\n",
       "  1   2   3   4\n",
       "  5   6   7   8\n",
       "  9  10  11  12\n",
       " 13  14  15  16"
      ]
     },
     "execution_count": 176,
     "metadata": {},
     "output_type": "execute_result"
    }
   ],
   "source": [
    "test = range(1,length=16) |> a -> reshape(a,4,4) |> transpose"
   ]
  },
  {
   "cell_type": "code",
   "execution_count": 207,
   "metadata": {},
   "outputs": [
    {
     "data": {
      "text/plain": [
       "4×4 LinearAlgebra.Transpose{Int64,Array{Int64,2}}:\n",
       "  1   2   3  4\n",
       " 12  13  14  5\n",
       " 11  16  15  6\n",
       " 10   9   8  7"
      ]
     },
     "execution_count": 207,
     "metadata": {},
     "output_type": "execute_result"
    }
   ],
   "source": [
    "(zip(spiralprinter(test), range(1, length=16)) \n",
    "|> collect |> xs -> sort(xs, by=first) |> xs -> map(last,xs) |> a -> reshape(a,4,4) |> transpose)"
   ]
  },
  {
   "cell_type": "code",
   "execution_count": 1,
   "metadata": {},
   "outputs": [
    {
     "ename": "UndefVarError",
     "evalue": "UndefVarError: spiralprinter not defined",
     "output_type": "error",
     "traceback": [
      "UndefVarError: spiralprinter not defined",
      "",
      "Stacktrace:",
      " [1] top-level scope at In[1]:1"
     ]
    }
   ],
   "source": [
    "spiralprinter(test)"
   ]
  }
 ],
 "metadata": {
  "kernelspec": {
   "display_name": "Julia 1.1.0",
   "language": "julia",
   "name": "julia-1.1"
  },
  "language_info": {
   "file_extension": ".jl",
   "mimetype": "application/julia",
   "name": "julia",
   "version": "1.1.0"
  }
 },
 "nbformat": 4,
 "nbformat_minor": 2
}
