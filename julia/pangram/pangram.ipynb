{
 "cells": [
  {
   "cell_type": "markdown",
   "metadata": {},
   "source": [
    "# Pangram\n",
    "\n",
    "Determine if a sentence is a pangram. A pangram (Greek: παν γράμμα, pan gramma,\n",
    "\"every letter\") is a sentence using every letter of the alphabet at least once.\n",
    "The best known English pangram is:\n",
    "> The quick brown fox jumps over the lazy dog.\n",
    "\n",
    "The alphabet used consists of ASCII letters `a` to `z`, inclusive, and is case\n",
    "insensitive. Input will not contain non-ASCII symbols.\n",
    "## Source\n",
    "\n",
    "Wikipedia [https://en.wikipedia.org/wiki/Pangram](https://en.wikipedia.org/wiki/Pangram)\n",
    "\n",
    "\n",
    "## Version compatibility\n",
    "This exercise has been tested on Julia versions >=1.0.\n",
    "\n",
    "## Submitting Incomplete Solutions\n",
    "It's possible to submit an incomplete solution so you can see how others have completed the exercise.\n"
   ]
  },
  {
   "cell_type": "code",
   "execution_count": 26,
   "metadata": {},
   "outputs": [
    {
     "name": "stdout",
     "output_type": "stream",
     "text": [
      "\u001b[32m\u001b[1m Resolving\u001b[22m\u001b[39m package versions...\n",
      "\u001b[32m\u001b[1m Installed\u001b[22m\u001b[39m Pipe ─ v1.1.0\n",
      "\u001b[32m\u001b[1m  Updating\u001b[22m\u001b[39m `~/.julia/environments/v1.1/Project.toml`\n",
      " \u001b[90m [b98c9c47]\u001b[39m\u001b[92m + Pipe v1.1.0\u001b[39m\n",
      "\u001b[32m\u001b[1m  Updating\u001b[22m\u001b[39m `~/.julia/environments/v1.1/Manifest.toml`\n",
      " \u001b[90m [b98c9c47]\u001b[39m\u001b[92m + Pipe v1.1.0\u001b[39m\n"
     ]
    },
    {
     "name": "stderr",
     "output_type": "stream",
     "text": [
      "┌ Info: Precompiling Pipe [b98c9c47-44ae-5843-9183-064241ee97a0]\n",
      "└ @ Base loading.jl:1186\n"
     ]
    }
   ],
   "source": [
    "Pkg.add(\"Pipe\")\n",
    "using Pipe"
   ]
  },
  {
   "cell_type": "code",
   "execution_count": 31,
   "metadata": {},
   "outputs": [
    {
     "data": {
      "text/plain": [
       "ispangram (generic function with 1 method)"
      ]
     },
     "execution_count": 31,
     "metadata": {},
     "output_type": "execute_result"
    }
   ],
   "source": [
    "# submit\n",
    "ispangram(input::AbstractString) = \n",
    "  input |> lowercase |> s -> replace(s, r\"[^a-z]\" => \"\") |> collect |> sort |> unique |> length == 26\n",
    "\n"
   ]
  },
  {
   "cell_type": "code",
   "execution_count": 32,
   "metadata": {},
   "outputs": [
    {
     "name": "stdout",
     "output_type": "stream",
     "text": [
      "\u001b[37m\u001b[1mTest Summary:  | \u001b[22m\u001b[39m\u001b[32m\u001b[1mPass  \u001b[22m\u001b[39m\u001b[36m\u001b[1mTotal\u001b[22m\u001b[39m\n",
      "empty sentence | \u001b[32m   1  \u001b[39m\u001b[36m    1\u001b[39m\n",
      "\u001b[37m\u001b[1mTest Summary:                | \u001b[22m\u001b[39m\u001b[32m\u001b[1mPass  \u001b[22m\u001b[39m\u001b[36m\u001b[1mTotal\u001b[22m\u001b[39m\n",
      "pangram with only lower case | \u001b[32m   1  \u001b[39m\u001b[36m    1\u001b[39m\n",
      "\u001b[37m\u001b[1mTest Summary:         | \u001b[22m\u001b[39m\u001b[32m\u001b[1mPass  \u001b[22m\u001b[39m\u001b[36m\u001b[1mTotal\u001b[22m\u001b[39m\n",
      "missing character 'x' | \u001b[32m   1  \u001b[39m\u001b[36m    1\u001b[39m\n",
      "\u001b[37m\u001b[1mTest Summary:                 | \u001b[22m\u001b[39m\u001b[32m\u001b[1mPass  \u001b[22m\u001b[39m\u001b[36m\u001b[1mTotal\u001b[22m\u001b[39m\n",
      "another missing character 'x' | \u001b[32m   1  \u001b[39m\u001b[36m    1\u001b[39m\n",
      "\u001b[37m\u001b[1mTest Summary:            | \u001b[22m\u001b[39m\u001b[32m\u001b[1mPass  \u001b[22m\u001b[39m\u001b[36m\u001b[1mTotal\u001b[22m\u001b[39m\n",
      "pangram with underscores | \u001b[32m   1  \u001b[39m\u001b[36m    1\u001b[39m\n",
      "\u001b[37m\u001b[1mTest Summary:        | \u001b[22m\u001b[39m\u001b[32m\u001b[1mPass  \u001b[22m\u001b[39m\u001b[36m\u001b[1mTotal\u001b[22m\u001b[39m\n",
      "pangram with numbers | \u001b[32m   1  \u001b[39m\u001b[36m    1\u001b[39m\n",
      "\u001b[37m\u001b[1mTest Summary:                       | \u001b[22m\u001b[39m\u001b[32m\u001b[1mPass  \u001b[22m\u001b[39m\u001b[36m\u001b[1mTotal\u001b[22m\u001b[39m\n",
      "missing letters replaced by numbers | \u001b[32m   1  \u001b[39m\u001b[36m    1\u001b[39m\n",
      "\u001b[37m\u001b[1mTest Summary:                           | \u001b[22m\u001b[39m\u001b[32m\u001b[1mPass  \u001b[22m\u001b[39m\u001b[36m\u001b[1mTotal\u001b[22m\u001b[39m\n",
      "pangram with mixed case and punctuation | \u001b[32m   1  \u001b[39m\u001b[36m    1\u001b[39m\n",
      "\u001b[37m\u001b[1mTest Summary:                                                                        | \u001b[22m\u001b[39m\u001b[32m\u001b[1mPass  \u001b[22m\u001b[39m\u001b[36m\u001b[1mTotal\u001b[22m\u001b[39m\n",
      "upper and lower case versions of the same character should not be counted separately | \u001b[32m   1  \u001b[39m\u001b[36m    1\u001b[39m\n"
     ]
    },
    {
     "data": {
      "text/plain": [
       "Test.DefaultTestSet(\"upper and lower case versions of the same character should not be counted separately\", Any[], 1, false)"
      ]
     },
     "execution_count": 32,
     "metadata": {},
     "output_type": "execute_result"
    }
   ],
   "source": [
    "using Test\n",
    "\n",
    "# include(\"pangram.jl\")\n",
    "\n",
    "@testset \"empty sentence\" begin\n",
    "    @test !ispangram(\"\")\n",
    "end\n",
    "        \n",
    "@testset \"pangram with only lower case\" begin\n",
    "    @test ispangram(\"the quick brown fox jumps over the lazy dog\")\n",
    "end\n",
    "        \n",
    "@testset \"missing character 'x'\" begin\n",
    "    @test !ispangram(\"a quick movement of the enemy will jeopardize five gunboats\")\n",
    "end\n",
    "        \n",
    "@testset \"another missing character 'x'\" begin\n",
    "    @test !ispangram(\"the quick brown fish jumps over the lazy dog\")\n",
    "end\n",
    "        \n",
    "@testset \"pangram with underscores\" begin\n",
    "    @test ispangram(\"the_quick_brown_fox_jumps_over_the_lazy_dog\")\n",
    "end\n",
    "        \n",
    "@testset \"pangram with numbers\" begin\n",
    "    @test ispangram(\"the 1 quick brown fox jumps over the 2 lazy dogs\")\n",
    "end\n",
    "        \n",
    "@testset \"missing letters replaced by numbers\" begin\n",
    "    @test !ispangram(\"7h3 qu1ck brown fox jumps ov3r 7h3 lazy dog\")\n",
    "end\n",
    "        \n",
    "@testset \"pangram with mixed case and punctuation\" begin\n",
    "    @test ispangram(\"\\\"Five quacking Zephyrs jolt my wax bed.\\\"\")\n",
    "end\n",
    "        \n",
    "@testset \"upper and lower case versions of the same character should not be counted separately\" begin\n",
    "    @test !ispangram(\"the quick brown fox jumped over the lazy FOX\")\n",
    "end\n",
    "\n"
   ]
  },
  {
   "cell_type": "code",
   "execution_count": 33,
   "metadata": {},
   "outputs": [
    {
     "name": "stdout",
     "output_type": "stream",
     "text": [
      "\u001b[32m\u001b[1m Resolving\u001b[22m\u001b[39m package versions...\n",
      "\u001b[32m\u001b[1m  Updating\u001b[22m\u001b[39m `~/.julia/environments/v1.1/Project.toml`\n",
      "\u001b[90m [no changes]\u001b[39m\n",
      "\u001b[32m\u001b[1m  Updating\u001b[22m\u001b[39m `~/.julia/environments/v1.1/Manifest.toml`\n",
      "\u001b[90m [no changes]\u001b[39m\n"
     ]
    },
    {
     "data": {
      "text/plain": [
       "139"
      ]
     },
     "execution_count": 33,
     "metadata": {},
     "output_type": "execute_result"
    }
   ],
   "source": [
    "# To submit your exercise, you need to save your solution in a file called pangram.jl before using the CLI.\n",
    "# You can either create it manually or use the following functions, which will automatically\n",
    "# save every notebook cell starting with `# submit` in tha|t file.\n",
    "\n",
    "using Pkg\n",
    "Pkg.add(\"Exercism\")\n",
    "using Exercism\n",
    "Exercism.create_submission(\"pangram\")\n"
   ]
  },
  {
   "cell_type": "code",
   "execution_count": 46,
   "metadata": {},
   "outputs": [
    {
     "data": {
      "text/plain": [
       "7-element Array{Char,1}:\n",
       " 'a'\n",
       " 's'\n",
       " 't'\n",
       " 'r'\n",
       " 'i'\n",
       " 'n'\n",
       " 'g'"
      ]
     },
     "execution_count": 46,
     "metadata": {},
     "output_type": "execute_result"
    }
   ],
   "source": [
    "(@pipe \"a string\" |> lowercase |> replace(_, r\"[^a-z]\" => \"\") |> collect)"
   ]
  },
  {
   "cell_type": "code",
   "execution_count": 43,
   "metadata": {},
   "outputs": [
    {
     "data": {
      "text/plain": [
       "x (generic function with 1 method)"
      ]
     },
     "execution_count": 43,
     "metadata": {},
     "output_type": "execute_result"
    }
   ],
   "source": [
    "x(input) = (@pipe input |> lowercase |> replace(_, r\"[^a-z]\" => \"\") |> collect |> sort |> unique |> length) == 26"
   ]
  },
  {
   "cell_type": "code",
   "execution_count": null,
   "metadata": {
    "collapsed": true
   },
   "outputs": [],
   "source": []
  }
 ],
 "metadata": {
  "kernelspec": {
   "display_name": "Julia 1.1.0",
   "language": "julia",
   "name": "julia-1.1"
  },
  "language_info": {
   "file_extension": ".jl",
   "mimetype": "application/julia",
   "name": "julia",
   "version": "1.1.0"
  }
 },
 "nbformat": 4,
 "nbformat_minor": 2
}
