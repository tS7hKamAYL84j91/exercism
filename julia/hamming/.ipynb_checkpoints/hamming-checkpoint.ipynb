{
 "cells": [
  {
   "cell_type": "markdown",
   "metadata": {},
   "source": [
    "# Hamming\n",
    "\n",
    "Calculate the Hamming Distance between two DNA strands.\n",
    "\n",
    "Your body is made up of cells that contain DNA. Those cells regularly wear out and need replacing, which they achieve by dividing into daughter cells. In fact, the average human body experiences about 10 quadrillion cell divisions in a lifetime!\n",
    "\n",
    "When cells divide, their DNA replicates too. Sometimes during this process mistakes happen and single pieces of DNA get encoded with the incorrect information. If we compare two strands of DNA and count the differences between them we can see how many mistakes occurred. This is known as the \"Hamming Distance\".\n",
    "\n",
    "We read DNA using the letters C,A,G and T. Two strands might look like this:\n",
    "\n",
    "    GAGCCTACTAACGGGAT\n",
    "    CATCGTAATGACGGCCT\n",
    "    ^ ^ ^  ^ ^    ^^\n",
    "\n",
    "They have 7 differences, and therefore the Hamming Distance is 7.\n",
    "\n",
    "The Hamming Distance is useful for lots of things in science, not just biology, so it's a nice phrase to be familiar with :)\n",
    "\n",
    "# Implementation notes\n",
    "\n",
    "The Hamming distance is only defined for sequences of equal length, so\n",
    "an attempt to calculate it between sequences of different lengths should\n",
    "not work. The general handling of this situation (e.g., raising an\n",
    "exception vs returning a special value) may differ between languages.\n",
    "## Source\n",
    "\n",
    "The Calculating Point Mutations problem at Rosalind [http://rosalind.info/problems/hamm/](http://rosalind.info/problems/hamm/)\n",
    "\n",
    "\n",
    "## Version compatibility\n",
    "This exercise has been tested on Julia versions >=1.0.\n",
    "\n",
    "## Submitting Incomplete Solutions\n",
    "It's possible to submit an incomplete solution so you can see how others have completed the exercise.\n"
   ]
  },
  {
   "cell_type": "code",
   "execution_count": 6,
   "metadata": {},
   "outputs": [
    {
     "data": {
      "text/plain": [
       "distance (generic function with 1 method)"
      ]
     },
     "execution_count": 6,
     "metadata": {},
     "output_type": "execute_result"
    }
   ],
   "source": [
    "# submit\n",
    "using Match\n",
    "\n",
    "function distance(s1::AbstractString, s2::AbstractString)\n",
    "    reducer((x,y))=  x == y ? 0 : 1 #can't seen to use tuple in λ\n",
    "    @match (s1,s2) begin\n",
    "        (\"\",\"\") => 0\n",
    "        (a1,a2), if length(a1) == length(a2) end => mapreduce(reducer,+,zip(s1, s2))\n",
    "        _ => throw(ArgumentError(\"Oops\"))    \n",
    "    end  \n",
    "end\n"
   ]
  },
  {
   "cell_type": "code",
   "execution_count": 7,
   "metadata": {},
   "outputs": [
    {
     "name": "stdout",
     "output_type": "stream",
     "text": [
      "\u001b[37m\u001b[1mTest Summary:     | \u001b[22m\u001b[39m\u001b[32m\u001b[1mPass  \u001b[22m\u001b[39m\u001b[36m\u001b[1mTotal\u001b[22m\u001b[39m\n",
      "identical strands | \u001b[32m   2  \u001b[39m\u001b[36m    2\u001b[39m\n",
      "\u001b[37m\u001b[1mTest Summary:     | \u001b[22m\u001b[39m\u001b[32m\u001b[1mPass  \u001b[22m\u001b[39m\u001b[36m\u001b[1mTotal\u001b[22m\u001b[39m\n",
      "complete distance | \u001b[32m   2  \u001b[39m\u001b[36m    2\u001b[39m\n",
      "\u001b[37m\u001b[1mTest Summary:  | \u001b[22m\u001b[39m\u001b[32m\u001b[1mPass  \u001b[22m\u001b[39m\u001b[36m\u001b[1mTotal\u001b[22m\u001b[39m\n",
      "small distance | \u001b[32m   3  \u001b[39m\u001b[36m    3\u001b[39m\n",
      "\u001b[37m\u001b[1mTest Summary:         | \u001b[22m\u001b[39m\u001b[32m\u001b[1mPass  \u001b[22m\u001b[39m\u001b[36m\u001b[1mTotal\u001b[22m\u001b[39m\n",
      "non-unique characters | \u001b[32m   2  \u001b[39m\u001b[36m    2\u001b[39m\n",
      "\u001b[37m\u001b[1mTest Summary:                           | \u001b[22m\u001b[39m\u001b[32m\u001b[1mPass  \u001b[22m\u001b[39m\u001b[36m\u001b[1mTotal\u001b[22m\u001b[39m\n",
      "same nucleotides in different positions | \u001b[32m   1  \u001b[39m\u001b[36m    1\u001b[39m\n",
      "\u001b[37m\u001b[1mTest Summary:  | \u001b[22m\u001b[39m\u001b[32m\u001b[1mPass  \u001b[22m\u001b[39m\u001b[36m\u001b[1mTotal\u001b[22m\u001b[39m\n",
      "large distance | \u001b[32m   2  \u001b[39m\u001b[36m    2\u001b[39m\n",
      "\u001b[37m\u001b[1mTest Summary: | \u001b[22m\u001b[39m\u001b[32m\u001b[1mPass  \u001b[22m\u001b[39m\u001b[36m\u001b[1mTotal\u001b[22m\u001b[39m\n",
      "empty strands | \u001b[32m   1  \u001b[39m\u001b[36m    1\u001b[39m\n",
      "\u001b[37m\u001b[1mTest Summary:            | \u001b[22m\u001b[39m\u001b[32m\u001b[1mPass  \u001b[22m\u001b[39m\u001b[36m\u001b[1mTotal\u001b[22m\u001b[39m\n",
      "different strand lengths | \u001b[32m   2  \u001b[39m\u001b[36m    2\u001b[39m\n"
     ]
    },
    {
     "data": {
      "text/plain": [
       "Test.DefaultTestSet(\"different strand lengths\", Any[], 2, false)"
      ]
     },
     "execution_count": 7,
     "metadata": {},
     "output_type": "execute_result"
    }
   ],
   "source": [
    "using Test\n",
    "\n",
    "# include(\"hamming.jl\")\n",
    "\n",
    "@testset \"identical strands\" begin\n",
    "    @test distance(\"A\", \"A\") == 0\n",
    "    @test distance(\"GGACTGA\", \"GGACTGA\") == 0\n",
    "end\n",
    "\n",
    "@testset \"complete distance\" begin\n",
    "    @test distance(\"A\", \"G\") == 1\n",
    "    @test distance(\"AG\", \"CT\") == 2\n",
    "end\n",
    "\n",
    "@testset \"small distance\" begin\n",
    "    @test distance(\"AT\", \"CT\") == 1\n",
    "    @test distance(\"GGACG\", \"GGTCG\") == 1\n",
    "    @test distance(\"ACCAGGG\", \"ACTATGG\") == 2\n",
    "end\n",
    "\n",
    "@testset \"non-unique characters\" begin\n",
    "    @test distance(\"AGA\", \"AGG\") == 1\n",
    "    @test distance(\"AGG\", \"AGA\") == 1\n",
    "end\n",
    "\n",
    "@testset \"same nucleotides in different positions\" begin\n",
    "    @test distance(\"TAG\", \"GAT\") == 2\n",
    "end\n",
    "\n",
    "@testset \"large distance\" begin\n",
    "    @test distance(\"GATACA\", \"GCATAA\") == 4\n",
    "    @test distance(\"GGACGGATTCTG\", \"AGGACGGATTCT\") == 9\n",
    "end\n",
    "\n",
    "@testset \"empty strands\" begin\n",
    "    @test distance(\"\", \"\") == 0\n",
    "end\n",
    "\n",
    "@testset \"different strand lengths\" begin\n",
    "    @test_throws ArgumentError distance(\"AATG\", \"AAA\")\n",
    "    @test_throws ArgumentError distance(\"ATA\", \"AGTG\")\n",
    "end\n"
   ]
  },
  {
   "cell_type": "code",
   "execution_count": 1,
   "metadata": {},
   "outputs": [],
   "source": [
    "# To submit your exercise, you need to save your solution in a file called hamming.jl before using the CLI.\n",
    "# You can either create it manually or use the following functions, which will automatically\n",
    "# save every notebook cell starting with `# submit` in that file.\n",
    "using Pkg\n",
    "# Pkg.add(\"Exercism\")\n",
    "# using Exercism\n",
    "# Exercism.create_submission(\"hamming\")\n"
   ]
  },
  {
   "cell_type": "code",
   "execution_count": 3,
   "metadata": {},
   "outputs": [
    {
     "name": "stdout",
     "output_type": "stream",
     "text": [
      "(s1, s2) = (\"Hello!\", \"Hello\")\n"
     ]
    },
    {
     "ename": "MethodError",
     "evalue": "MethodError: no method matching ArgumentError()\nClosest candidates are:\n  ArgumentError(!Matched::AbstractString) at boot.jl:285\n  ArgumentError(!Matched::Any) at boot.jl:285",
     "output_type": "error",
     "traceback": [
      "MethodError: no method matching ArgumentError()\nClosest candidates are:\n  ArgumentError(!Matched::AbstractString) at boot.jl:285\n  ArgumentError(!Matched::Any) at boot.jl:285",
      "",
      "Stacktrace:",
      " [1] macro expansion at /Users/jim/.julia/packages/Match/cMtMj/src/matchmacro.jl:408 [inlined]",
      " [2] macro expansion at ./In[1]:9 [inlined]",
      " [3] macro expansion at /Users/jim/.julia/packages/Match/cMtMj/src/matchmacro.jl:410 [inlined]",
      " [4] distance(::String, ::String) at ./In[1]:8",
      " [5] top-level scope at In[3]:1"
     ]
    }
   ],
   "source": [
    "distance(\"Hello!\", \"Hello\")"
   ]
  },
  {
   "cell_type": "code",
   "execution_count": 11,
   "metadata": {},
   "outputs": [
    {
     "ename": "MethodError",
     "evalue": "MethodError: no method matching (::getfield(Main, Symbol(\"##10#11\")))(::Tuple{Int64,Int64})\nClosest candidates are:\n  #10(::Any, !Matched::Any) at In[11]:1",
     "output_type": "error",
     "traceback": [
      "MethodError: no method matching (::getfield(Main, Symbol(\"##10#11\")))(::Tuple{Int64,Int64})\nClosest candidates are:\n  #10(::Any, !Matched::Any) at In[11]:1",
      "",
      "Stacktrace:",
      " [1] iterate at ./generator.jl:47 [inlined]",
      " [2] collect(::Base.Generator{Base.Iterators.Zip{Tuple{UnitRange{Int64},UnitRange{Int64}}},getfield(Main, Symbol(\"##10#11\"))}) at ./array.jl:606",
      " [3] map(::Function, ::Base.Iterators.Zip{Tuple{UnitRange{Int64},UnitRange{Int64}}}) at ./abstractarray.jl:2044",
      " [4] top-level scope at In[11]:1"
     ]
    }
   ],
   "source": [
    "map(zip(1:5, 6:10))"
   ]
  },
  {
   "cell_type": "code",
   "execution_count": null,
   "metadata": {
    "collapsed": true
   },
   "outputs": [],
   "source": []
  }
 ],
 "metadata": {
  "kernelspec": {
   "display_name": "Julia 1.1.0",
   "language": "julia",
   "name": "julia-1.1"
  },
  "language_info": {
   "file_extension": ".jl",
   "mimetype": "application/julia",
   "name": "julia",
   "version": "1.1.0"
  }
 },
 "nbformat": 4,
 "nbformat_minor": 2
}
