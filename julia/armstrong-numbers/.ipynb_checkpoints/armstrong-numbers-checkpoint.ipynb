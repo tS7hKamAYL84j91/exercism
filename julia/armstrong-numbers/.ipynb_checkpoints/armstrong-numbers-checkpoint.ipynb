{
 "cells": [
  {
   "cell_type": "markdown",
   "metadata": {},
   "source": [
    "# Armstrong Numbers\n",
    "\n",
    "An [Armstrong number](https://en.wikipedia.org/wiki/Narcissistic_number) is a number that is the sum of its own digits each raised to the power of the number of digits.\n",
    "\n",
    "For example:\n",
    "\n",
    "- 9 is an Armstrong number, because `9 = 9^1 = 9`\n",
    "- 10 is *not* an Armstrong number, because `10 != 1^2 + 0^2 = 1`\n",
    "- 153 is an Armstrong number, because: `153 = 1^3 + 5^3 + 3^3 = 1 + 125 + 27 = 153`\n",
    "- 154 is *not* an Armstrong number, because: `154 != 1^3 + 5^3 + 4^3 = 1 + 125 + 64 = 190`\n",
    "\n",
    "Write some code to determine whether a number is an Armstrong number.\n",
    "## Source\n",
    "\n",
    "Wikipedia [https://en.wikipedia.org/wiki/Narcissistic_number](https://en.wikipedia.org/wiki/Narcissistic_number)\n",
    "\n",
    "\n",
    "## Version compatibility\n",
    "This exercise has been tested on Julia versions >=1.0.\n",
    "\n",
    "## Submitting Incomplete Solutions\n",
    "It's possible to submit an incomplete solution so you can see how others have completed the exercise.\n"
   ]
  },
  {
   "cell_type": "code",
   "execution_count": 26,
   "metadata": {},
   "outputs": [
    {
     "data": {
      "text/plain": [
       "isarmstrong (generic function with 1 method)"
      ]
     },
     "execution_count": 26,
     "metadata": {},
     "output_type": "execute_result"
    }
   ],
   "source": [
    "# submit\n",
    "isarmstrong(n::Int) = \n",
    "    n |> string |> collect |> xs -> mapreduce(x -> parse(Int,x)^length(xs), +, xs) == n\n"
   ]
  },
  {
   "cell_type": "code",
   "execution_count": 27,
   "metadata": {},
   "outputs": [
    {
     "name": "stdout",
     "output_type": "stream",
     "text": [
      "\u001b[37m\u001b[1mTest Summary:     | \u001b[22m\u001b[39m\u001b[32m\u001b[1mPass  \u001b[22m\u001b[39m\u001b[36m\u001b[1mTotal\u001b[22m\u001b[39m\n",
      "armstrong numbers | \u001b[32m   7  \u001b[39m\u001b[36m    7\u001b[39m\n"
     ]
    },
    {
     "data": {
      "text/plain": [
       "Test.DefaultTestSet(\"armstrong numbers\", Any[], 7, false)"
      ]
     },
     "execution_count": 27,
     "metadata": {},
     "output_type": "execute_result"
    }
   ],
   "source": [
    "# canonical data version: 1.0.0\n",
    "\n",
    "using Test\n",
    "\n",
    "# include(\"armstrong-numbers.jl\")\n",
    "\n",
    "@testset \"armstrong numbers\" begin\n",
    "    @test  isarmstrong(5)\n",
    "    @test !isarmstrong(10)\n",
    "    @test !isarmstrong(100)\n",
    "    @test  isarmstrong(9474)\n",
    "    @test !isarmstrong(9475)\n",
    "    @test  isarmstrong(9926315)\n",
    "    @test !isarmstrong(9926314)\n",
    "end\n"
   ]
  },
  {
   "cell_type": "code",
   "execution_count": 28,
   "metadata": {},
   "outputs": [
    {
     "data": {
      "text/plain": [
       "110"
      ]
     },
     "execution_count": 28,
     "metadata": {},
     "output_type": "execute_result"
    }
   ],
   "source": [
    "# To submit your exercise, you need to save your solution in a file called armstrong-numbers.jl before using the CLI.\n",
    "# You can either create it manually or use the following functions, which will automatically\n",
    "# save every notebook cell starting with `# submit` in that file.\n",
    "\n",
    "# Pkg.add(\"Exercism\")\n",
    "using Exercism\n",
    "Exercism.create_submission(\"armstrong-numbers\")\n"
   ]
  },
  {
   "cell_type": "code",
   "execution_count": 4,
   "metadata": {},
   "outputs": [
    {
     "name": "stdout",
     "output_type": "stream",
     "text": [
      "search: \u001b[0m\u001b[1mp\u001b[22m\u001b[0m\u001b[1ma\u001b[22m\u001b[0m\u001b[1mr\u001b[22m\u001b[0m\u001b[1ms\u001b[22m\u001b[0m\u001b[1me\u001b[22m try\u001b[0m\u001b[1mp\u001b[22m\u001b[0m\u001b[1ma\u001b[22m\u001b[0m\u001b[1mr\u001b[22m\u001b[0m\u001b[1ms\u001b[22m\u001b[0m\u001b[1me\u001b[22m \u001b[0m\u001b[1mp\u001b[22m\u001b[0m\u001b[1ma\u001b[22m\u001b[0m\u001b[1mr\u001b[22mtial\u001b[0m\u001b[1ms\u001b[22mortp\u001b[0m\u001b[1me\u001b[22mrm \u001b[0m\u001b[1mp\u001b[22m\u001b[0m\u001b[1ma\u001b[22m\u001b[0m\u001b[1mr\u001b[22mtial\u001b[0m\u001b[1ms\u001b[22mortp\u001b[0m\u001b[1me\u001b[22mrm! \u001b[0m\u001b[1mp\u001b[22m\u001b[0m\u001b[1ma\u001b[22mi\u001b[0m\u001b[1mr\u001b[22m\u001b[0m\u001b[1ms\u001b[22m ski\u001b[0m\u001b[1mp\u001b[22mch\u001b[0m\u001b[1ma\u001b[22m\u001b[0m\u001b[1mr\u001b[22m\u001b[0m\u001b[1ms\u001b[22m\n",
      "\n"
     ]
    },
    {
     "data": {
      "text/latex": [
       "\\begin{verbatim}\n",
       "parse(type, str; base)\n",
       "\\end{verbatim}\n",
       "Parse a string as a number. For \\texttt{Integer} types, a base can be specified (the default is 10). For floating-point types, the string is parsed as a decimal floating-point number.  \\texttt{Complex} types are parsed from decimal strings of the form \\texttt{\"R±Iim\"} as a \\texttt{Complex(R,I)} of the requested type; \\texttt{\"i\"} or \\texttt{\"j\"} can also be used instead of \\texttt{\"im\"}, and \\texttt{\"R\"} or \\texttt{\"Iim\"} are also permitted. If the string does not contain a valid number, an error is raised.\n",
       "\n",
       "\\begin{quote}\n",
       "\\textbf{compat}\n",
       "\n",
       "Julia 1.1\n",
       "\n",
       "\\texttt{parse(Bool, str)} requires at least Julia 1.1.\n",
       "\n",
       "\\end{quote}\n",
       "\\section{Examples}\n",
       "\\begin{verbatim}\n",
       "julia> parse(Int, \"1234\")\n",
       "1234\n",
       "\n",
       "julia> parse(Int, \"1234\", base = 5)\n",
       "194\n",
       "\n",
       "julia> parse(Int, \"afc\", base = 16)\n",
       "2812\n",
       "\n",
       "julia> parse(Float64, \"1.2e-3\")\n",
       "0.0012\n",
       "\n",
       "julia> parse(Complex{Float64}, \"3.2e-1 + 4.5im\")\n",
       "0.32 + 4.5im\n",
       "\\end{verbatim}\n"
      ],
      "text/markdown": [
       "```\n",
       "parse(type, str; base)\n",
       "```\n",
       "\n",
       "Parse a string as a number. For `Integer` types, a base can be specified (the default is 10). For floating-point types, the string is parsed as a decimal floating-point number.  `Complex` types are parsed from decimal strings of the form `\"R±Iim\"` as a `Complex(R,I)` of the requested type; `\"i\"` or `\"j\"` can also be used instead of `\"im\"`, and `\"R\"` or `\"Iim\"` are also permitted. If the string does not contain a valid number, an error is raised.\n",
       "\n",
       "!!! compat \"Julia 1.1\"\n",
       "    `parse(Bool, str)` requires at least Julia 1.1.\n",
       "\n",
       "\n",
       "# Examples\n",
       "\n",
       "```jldoctest\n",
       "julia> parse(Int, \"1234\")\n",
       "1234\n",
       "\n",
       "julia> parse(Int, \"1234\", base = 5)\n",
       "194\n",
       "\n",
       "julia> parse(Int, \"afc\", base = 16)\n",
       "2812\n",
       "\n",
       "julia> parse(Float64, \"1.2e-3\")\n",
       "0.0012\n",
       "\n",
       "julia> parse(Complex{Float64}, \"3.2e-1 + 4.5im\")\n",
       "0.32 + 4.5im\n",
       "```\n"
      ],
      "text/plain": [
       "\u001b[36m  parse(type, str; base)\u001b[39m\n",
       "\n",
       "  Parse a string as a number. For \u001b[36mInteger\u001b[39m types, a base can be specified (the\n",
       "  default is 10). For floating-point types, the string is parsed as a decimal\n",
       "  floating-point number. \u001b[36mComplex\u001b[39m types are parsed from decimal strings of the\n",
       "  form \u001b[36m\"R±Iim\"\u001b[39m as a \u001b[36mComplex(R,I)\u001b[39m of the requested type; \u001b[36m\"i\"\u001b[39m or \u001b[36m\"j\"\u001b[39m can also be\n",
       "  used instead of \u001b[36m\"im\"\u001b[39m, and \u001b[36m\"R\"\u001b[39m or \u001b[36m\"Iim\"\u001b[39m are also permitted. If the string\n",
       "  does not contain a valid number, an error is raised.\n",
       "\n",
       "\u001b[39m\u001b[1m  │ \u001b[22m\u001b[39m\u001b[1mJulia 1.1\u001b[22m\n",
       "\u001b[39m\u001b[1m  │\u001b[22m\n",
       "\u001b[39m\u001b[1m  │\u001b[22m  \u001b[36mparse(Bool, str)\u001b[39m requires at least Julia 1.1.\n",
       "\n",
       "\u001b[1m  Examples\u001b[22m\n",
       "\u001b[1m  ≡≡≡≡≡≡≡≡≡≡\u001b[22m\n",
       "\n",
       "\u001b[36m  julia> parse(Int, \"1234\")\u001b[39m\n",
       "\u001b[36m  1234\u001b[39m\n",
       "\u001b[36m  \u001b[39m\n",
       "\u001b[36m  julia> parse(Int, \"1234\", base = 5)\u001b[39m\n",
       "\u001b[36m  194\u001b[39m\n",
       "\u001b[36m  \u001b[39m\n",
       "\u001b[36m  julia> parse(Int, \"afc\", base = 16)\u001b[39m\n",
       "\u001b[36m  2812\u001b[39m\n",
       "\u001b[36m  \u001b[39m\n",
       "\u001b[36m  julia> parse(Float64, \"1.2e-3\")\u001b[39m\n",
       "\u001b[36m  0.0012\u001b[39m\n",
       "\u001b[36m  \u001b[39m\n",
       "\u001b[36m  julia> parse(Complex{Float64}, \"3.2e-1 + 4.5im\")\u001b[39m\n",
       "\u001b[36m  0.32 + 4.5im\u001b[39m"
      ]
     },
     "execution_count": 4,
     "metadata": {},
     "output_type": "execute_result"
    }
   ],
   "source": [
    "?parse"
   ]
  },
  {
   "cell_type": "code",
   "execution_count": 12,
   "metadata": {},
   "outputs": [
    {
     "data": {
      "text/plain": [
       "9"
      ]
     },
     "execution_count": 12,
     "metadata": {},
     "output_type": "execute_result"
    }
   ],
   "source": []
  },
  {
   "cell_type": "code",
   "execution_count": 6,
   "metadata": {},
   "outputs": [
    {
     "name": "stdout",
     "output_type": "stream",
     "text": [
      "search: \u001b[0m\u001b[1mm\u001b[22m\u001b[0m\u001b[1ma\u001b[22m\u001b[0m\u001b[1mp\u001b[22m\u001b[0m\u001b[1mr\u001b[22m\u001b[0m\u001b[1me\u001b[22m\u001b[0m\u001b[1md\u001b[22m\u001b[0m\u001b[1mu\u001b[22m\u001b[0m\u001b[1mc\u001b[22m\u001b[0m\u001b[1me\u001b[22m\n",
      "\n"
     ]
    },
    {
     "data": {
      "text/latex": [
       "\\begin{verbatim}\n",
       "mapreduce(f, op, itr; [init])\n",
       "\\end{verbatim}\n",
       "Apply function \\texttt{f} to each element in \\texttt{itr}, and then reduce the result using the binary function \\texttt{op}. If provided, \\texttt{init} must be a neutral element for \\texttt{op} that will be returned for empty collections. It is unspecified whether \\texttt{init} is used for non-empty collections. In general, it will be necessary to provide \\texttt{init} to work with empty collections.\n",
       "\n",
       "\\href{@ref}{\\texttt{mapreduce}} is functionally equivalent to calling \\texttt{reduce(op, map(f, itr); init=init)}, but will in general execute faster since no intermediate collection needs to be created. See documentation for \\href{@ref}{\\texttt{reduce}} and \\href{@ref}{\\texttt{map}}.\n",
       "\n",
       "\\section{Examples}\n",
       "\\begin{verbatim}\n",
       "julia> mapreduce(x->x^2, +, [1:3;]) # == 1 + 4 + 9\n",
       "14\n",
       "\\end{verbatim}\n",
       "The associativity of the reduction is implementation-dependent. Additionally, some implementations may reuse the return value of \\texttt{f} for elements that appear multiple times in \\texttt{itr}. Use \\href{@ref}{\\texttt{mapfoldl}} or \\href{@ref}{\\texttt{mapfoldr}} instead for guaranteed left or right associativity and invocation of \\texttt{f} for every value.\n",
       "\n",
       "\\rule{\\textwidth}{1pt}\n",
       "\\begin{verbatim}\n",
       "mapreduce(f, op, A::AbstractArray; dims=:, [init])\n",
       "\\end{verbatim}\n",
       "Evaluates to the same as \\texttt{reduce(op, map(f, A); dims=dims, init=init)}, but is generally faster because the intermediate array is avoided.\n",
       "\n",
       "\\section{Examples}\n",
       "\\begin{verbatim}\n",
       "julia> a = reshape(Vector(1:16), (4,4))\n",
       "4×4 Array{Int64,2}:\n",
       " 1  5   9  13\n",
       " 2  6  10  14\n",
       " 3  7  11  15\n",
       " 4  8  12  16\n",
       "\n",
       "julia> mapreduce(isodd, *, a, dims=1)\n",
       "1×4 Array{Bool,2}:\n",
       " false  false  false  false\n",
       "\n",
       "julia> mapreduce(isodd, |, a, dims=1)\n",
       "1×4 Array{Bool,2}:\n",
       " true  true  true  true\n",
       "\\end{verbatim}\n"
      ],
      "text/markdown": [
       "```\n",
       "mapreduce(f, op, itr; [init])\n",
       "```\n",
       "\n",
       "Apply function `f` to each element in `itr`, and then reduce the result using the binary function `op`. If provided, `init` must be a neutral element for `op` that will be returned for empty collections. It is unspecified whether `init` is used for non-empty collections. In general, it will be necessary to provide `init` to work with empty collections.\n",
       "\n",
       "[`mapreduce`](@ref) is functionally equivalent to calling `reduce(op, map(f, itr); init=init)`, but will in general execute faster since no intermediate collection needs to be created. See documentation for [`reduce`](@ref) and [`map`](@ref).\n",
       "\n",
       "# Examples\n",
       "\n",
       "```jldoctest\n",
       "julia> mapreduce(x->x^2, +, [1:3;]) # == 1 + 4 + 9\n",
       "14\n",
       "```\n",
       "\n",
       "The associativity of the reduction is implementation-dependent. Additionally, some implementations may reuse the return value of `f` for elements that appear multiple times in `itr`. Use [`mapfoldl`](@ref) or [`mapfoldr`](@ref) instead for guaranteed left or right associativity and invocation of `f` for every value.\n",
       "\n",
       "---\n",
       "\n",
       "```\n",
       "mapreduce(f, op, A::AbstractArray; dims=:, [init])\n",
       "```\n",
       "\n",
       "Evaluates to the same as `reduce(op, map(f, A); dims=dims, init=init)`, but is generally faster because the intermediate array is avoided.\n",
       "\n",
       "# Examples\n",
       "\n",
       "```jldoctest\n",
       "julia> a = reshape(Vector(1:16), (4,4))\n",
       "4×4 Array{Int64,2}:\n",
       " 1  5   9  13\n",
       " 2  6  10  14\n",
       " 3  7  11  15\n",
       " 4  8  12  16\n",
       "\n",
       "julia> mapreduce(isodd, *, a, dims=1)\n",
       "1×4 Array{Bool,2}:\n",
       " false  false  false  false\n",
       "\n",
       "julia> mapreduce(isodd, |, a, dims=1)\n",
       "1×4 Array{Bool,2}:\n",
       " true  true  true  true\n",
       "```\n"
      ],
      "text/plain": [
       "\u001b[36m  mapreduce(f, op, itr; [init])\u001b[39m\n",
       "\n",
       "  Apply function \u001b[36mf\u001b[39m to each element in \u001b[36mitr\u001b[39m, and then reduce the result using\n",
       "  the binary function \u001b[36mop\u001b[39m. If provided, \u001b[36minit\u001b[39m must be a neutral element for \u001b[36mop\u001b[39m\n",
       "  that will be returned for empty collections. It is unspecified whether \u001b[36minit\u001b[39m\n",
       "  is used for non-empty collections. In general, it will be necessary to\n",
       "  provide \u001b[36minit\u001b[39m to work with empty collections.\n",
       "\n",
       "  \u001b[36mmapreduce\u001b[39m is functionally equivalent to calling \u001b[36mreduce(op, map(f, itr);\n",
       "  init=init)\u001b[39m, but will in general execute faster since no intermediate\n",
       "  collection needs to be created. See documentation for \u001b[36mreduce\u001b[39m and \u001b[36mmap\u001b[39m.\n",
       "\n",
       "\u001b[1m  Examples\u001b[22m\n",
       "\u001b[1m  ≡≡≡≡≡≡≡≡≡≡\u001b[22m\n",
       "\n",
       "\u001b[36m  julia> mapreduce(x->x^2, +, [1:3;]) # == 1 + 4 + 9\u001b[39m\n",
       "\u001b[36m  14\u001b[39m\n",
       "\n",
       "  The associativity of the reduction is implementation-dependent.\n",
       "  Additionally, some implementations may reuse the return value of \u001b[36mf\u001b[39m for\n",
       "  elements that appear multiple times in \u001b[36mitr\u001b[39m. Use \u001b[36mmapfoldl\u001b[39m or \u001b[36mmapfoldr\u001b[39m instead\n",
       "  for guaranteed left or right associativity and invocation of \u001b[36mf\u001b[39m for every\n",
       "  value.\n",
       "\n",
       "  ────────────────────────────────────────────────────────────────────────────\n",
       "\n",
       "\u001b[36m  mapreduce(f, op, A::AbstractArray; dims=:, [init])\u001b[39m\n",
       "\n",
       "  Evaluates to the same as \u001b[36mreduce(op, map(f, A); dims=dims, init=init)\u001b[39m, but is\n",
       "  generally faster because the intermediate array is avoided.\n",
       "\n",
       "\u001b[1m  Examples\u001b[22m\n",
       "\u001b[1m  ≡≡≡≡≡≡≡≡≡≡\u001b[22m\n",
       "\n",
       "\u001b[36m  julia> a = reshape(Vector(1:16), (4,4))\u001b[39m\n",
       "\u001b[36m  4×4 Array{Int64,2}:\u001b[39m\n",
       "\u001b[36m   1  5   9  13\u001b[39m\n",
       "\u001b[36m   2  6  10  14\u001b[39m\n",
       "\u001b[36m   3  7  11  15\u001b[39m\n",
       "\u001b[36m   4  8  12  16\u001b[39m\n",
       "\u001b[36m  \u001b[39m\n",
       "\u001b[36m  julia> mapreduce(isodd, *, a, dims=1)\u001b[39m\n",
       "\u001b[36m  1×4 Array{Bool,2}:\u001b[39m\n",
       "\u001b[36m   false  false  false  false\u001b[39m\n",
       "\u001b[36m  \u001b[39m\n",
       "\u001b[36m  julia> mapreduce(isodd, |, a, dims=1)\u001b[39m\n",
       "\u001b[36m  1×4 Array{Bool,2}:\u001b[39m\n",
       "\u001b[36m   true  true  true  true\u001b[39m"
      ]
     },
     "execution_count": 6,
     "metadata": {},
     "output_type": "execute_result"
    }
   ],
   "source": [
    "?mapreduceuce"
   ]
  },
  {
   "cell_type": "code",
   "execution_count": 19,
   "metadata": {},
   "outputs": [
    {
     "data": {
      "text/plain": [
       "false"
      ]
     },
     "execution_count": 19,
     "metadata": {},
     "output_type": "execute_result"
    }
   ],
   "source": [
    "isarmstrong(5)"
   ]
  },
  {
   "cell_type": "code",
   "execution_count": 22,
   "metadata": {},
   "outputs": [
    {
     "data": {
      "text/plain": [
       "false"
      ]
     },
     "execution_count": 22,
     "metadata": {},
     "output_type": "execute_result"
    }
   ],
   "source": [
    "isarmstrong(9474)"
   ]
  },
  {
   "cell_type": "code",
   "execution_count": 23,
   "metadata": {},
   "outputs": [
    {
     "data": {
      "text/plain": [
       "624"
      ]
     },
     "execution_count": 23,
     "metadata": {},
     "output_type": "execute_result"
    }
   ],
   "source": [
    "9^1+4^2+7^3+4^4"
   ]
  },
  {
   "cell_type": "code",
   "execution_count": null,
   "metadata": {
    "collapsed": true
   },
   "outputs": [],
   "source": []
  }
 ],
 "metadata": {
  "kernelspec": {
   "display_name": "Julia 1.1.0",
   "language": "julia",
   "name": "julia-1.1"
  },
  "language_info": {
   "file_extension": ".jl",
   "mimetype": "application/julia",
   "name": "julia",
   "version": "1.1.0"
  }
 },
 "nbformat": 4,
 "nbformat_minor": 2
}
