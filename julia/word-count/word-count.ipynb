{
 "cells": [
  {
   "cell_type": "markdown",
   "metadata": {},
   "source": [
    "# Word Count\n",
    "\n",
    "Given a phrase, count the occurrences of each word in that phrase.\n",
    "\n",
    "For example for the input `\"olly olly in come free\"`\n",
    "\n",
    "```text\n",
    "olly: 2\n",
    "in: 1\n",
    "come: 1\n",
    "free: 1\n",
    "```\n",
    "## Source\n",
    "\n",
    "This is a classic toy problem, but we were reminded of it by seeing it in the Go Tour.\n",
    "\n",
    "\n",
    "## Version compatibility\n",
    "This exercise has been tested on Julia versions >=1.0.\n",
    "\n",
    "## Submitting Incomplete Solutions\n",
    "It's possible to submit an incomplete solution so you can see how others have completed the exercise.\n"
   ]
  },
  {
   "cell_type": "code",
   "execution_count": 50,
   "metadata": {},
   "outputs": [
    {
     "data": {
      "text/plain": [
       "wordcount (generic function with 1 method)"
      ]
     },
     "execution_count": 50,
     "metadata": {},
     "output_type": "execute_result"
    }
   ],
   "source": [
    "# submit\n",
    "wordcount(sentence::AbstractString) = (sentence \n",
    "    |> lowercase\n",
    "    |> s -> replace(s, r\"(?!\\b'\\b)[^\\w ]\" => \" \") \n",
    "    |> s -> split(s, \" \", keepempty=false) \n",
    "    |> countmap)\n"
   ]
  },
  {
   "cell_type": "code",
   "execution_count": 51,
   "metadata": {},
   "outputs": [
    {
     "name": "stdout",
     "output_type": "stream",
     "text": [
      "\u001b[37m\u001b[1mTest Summary: | \u001b[22m\u001b[39m\u001b[32m\u001b[1mPass  \u001b[22m\u001b[39m\u001b[36m\u001b[1mTotal\u001b[22m\u001b[39m\n",
      "no words      | \u001b[32m   1  \u001b[39m\u001b[36m    1\u001b[39m\n",
      "\u001b[37m\u001b[1mTest Summary:  | \u001b[22m\u001b[39m\u001b[32m\u001b[1mPass  \u001b[22m\u001b[39m\u001b[36m\u001b[1mTotal\u001b[22m\u001b[39m\n",
      "count one word | \u001b[32m   1  \u001b[39m\u001b[36m    1\u001b[39m\n",
      "\u001b[37m\u001b[1mTest Summary:          | \u001b[22m\u001b[39m\u001b[32m\u001b[1mPass  \u001b[22m\u001b[39m\u001b[36m\u001b[1mTotal\u001b[22m\u001b[39m\n",
      "count one of each word | \u001b[32m   1  \u001b[39m\u001b[36m    1\u001b[39m\n",
      "\u001b[37m\u001b[1mTest Summary:                  | \u001b[22m\u001b[39m\u001b[32m\u001b[1mPass  \u001b[22m\u001b[39m\u001b[36m\u001b[1mTotal\u001b[22m\u001b[39m\n",
      "multiple occurrences of a word | \u001b[32m   1  \u001b[39m\u001b[36m    1\u001b[39m\n",
      "\u001b[37m\u001b[1mTest Summary:         | \u001b[22m\u001b[39m\u001b[32m\u001b[1mPass  \u001b[22m\u001b[39m\u001b[36m\u001b[1mTotal\u001b[22m\u001b[39m\n",
      "handles cramped lists | \u001b[32m   1  \u001b[39m\u001b[36m    1\u001b[39m\n",
      "\u001b[37m\u001b[1mTest Summary:          | \u001b[22m\u001b[39m\u001b[32m\u001b[1mPass  \u001b[22m\u001b[39m\u001b[36m\u001b[1mTotal\u001b[22m\u001b[39m\n",
      "handles expanded lists | \u001b[32m   1  \u001b[39m\u001b[36m    1\u001b[39m\n",
      "\u001b[37m\u001b[1mTest Summary:      | \u001b[22m\u001b[39m\u001b[32m\u001b[1mPass  \u001b[22m\u001b[39m\u001b[36m\u001b[1mTotal\u001b[22m\u001b[39m\n",
      "ignore punctuation | \u001b[32m   1  \u001b[39m\u001b[36m    1\u001b[39m\n",
      "\u001b[37m\u001b[1mTest Summary:   | \u001b[22m\u001b[39m\u001b[32m\u001b[1mPass  \u001b[22m\u001b[39m\u001b[36m\u001b[1mTotal\u001b[22m\u001b[39m\n",
      "include numbers | \u001b[32m   1  \u001b[39m\u001b[36m    1\u001b[39m\n",
      "\u001b[37m\u001b[1mTest Summary:  | \u001b[22m\u001b[39m\u001b[32m\u001b[1mPass  \u001b[22m\u001b[39m\u001b[36m\u001b[1mTotal\u001b[22m\u001b[39m\n",
      "normalize case | \u001b[32m   1  \u001b[39m\u001b[36m    1\u001b[39m\n",
      "\u001b[37m\u001b[1mTest Summary:    | \u001b[22m\u001b[39m\u001b[32m\u001b[1mPass  \u001b[22m\u001b[39m\u001b[36m\u001b[1mTotal\u001b[22m\u001b[39m\n",
      "with apostrophes | \u001b[32m   1  \u001b[39m\u001b[36m    1\u001b[39m\n",
      "\u001b[37m\u001b[1mTest Summary:   | \u001b[22m\u001b[39m\u001b[32m\u001b[1mPass  \u001b[22m\u001b[39m\u001b[36m\u001b[1mTotal\u001b[22m\u001b[39m\n",
      "with quotations | \u001b[32m   1  \u001b[39m\u001b[36m    1\u001b[39m\n"
     ]
    },
    {
     "data": {
      "text/plain": [
       "Test.DefaultTestSet(\"with quotations\", Any[], 1, false)"
      ]
     },
     "execution_count": 51,
     "metadata": {},
     "output_type": "execute_result"
    }
   ],
   "source": [
    "using Test\n",
    "\n",
    "# include(\"word-count.jl\")\n",
    "\n",
    "@testset \"no words\" begin\n",
    "    @test wordcount(\" .\\n,\\t!^&*()~@#\\$%{}[]:;'/<>\") == Dict()\n",
    "end\n",
    "\n",
    "@testset \"count one word\" begin\n",
    "    @test wordcount(\"word\") == Dict(\"word\" => 1)\n",
    "end\n",
    "\n",
    "@testset \"count one of each word\" begin\n",
    "    @test wordcount(\"one of each\") == Dict(\"one\" => 1, \"of\" => 1, \"each\" => 1)\n",
    "end\n",
    "\n",
    "@testset \"multiple occurrences of a word\" begin\n",
    "    @test wordcount(\"one fish two fish red fish blue fish\") == Dict(\"one\" => 1, \"fish\" => 4, \"two\" => 1, \"red\" => 1, \"blue\" => 1)\n",
    "end\n",
    "\n",
    "@testset \"handles cramped lists\" begin\n",
    "    @test wordcount(\"one,two,three\") == Dict(\"one\" => 1, \"two\" => 1, \"three\" => 1)\n",
    "end\n",
    "\n",
    "@testset \"handles expanded lists\" begin\n",
    "    @test wordcount(\"one,\\ntwo,\\nthree\") == Dict(\"one\" => 1, \"two\" => 1, \"three\" => 1)\n",
    "end\n",
    "\n",
    "@testset \"ignore punctuation\" begin\n",
    "    @test wordcount(\"car: carpet as java: javascript!!&@\\$%^&\") == Dict(\"car\" => 1, \"carpet\" => 1, \"as\" => 1, \"java\" => 1, \"javascript\" => 1)\n",
    "end\n",
    "\n",
    "@testset \"include numbers\" begin\n",
    "    @test wordcount(\"testing, 1, 2 testing\") == Dict(\"testing\" => 2, \"1\" => 1, \"2\" => 1)\n",
    "end\n",
    "\n",
    "@testset \"normalize case\" begin\n",
    "    @test wordcount(\"go Go GO Stop stop\") == Dict(\"go\" => 3, \"stop\" => 2)\n",
    "end\n",
    "\n",
    "@testset \"with apostrophes\" begin\n",
    "    @test wordcount(\"First: don't laugh. Then: don't cry.\") == Dict(\"first\" => 1, \"don't\" => 2, \"laugh\" => 1, \"then\" => 1, \"cry\" => 1)\n",
    "end\n",
    "\n",
    "@testset \"with quotations\" begin\n",
    "    @test wordcount(\"Joe can't tell between 'large' and large.\") == Dict(\"joe\" => 1, \"can't\" => 1, \"tell\" => 1, \"between\" => 1, \"large\" => 2, \"and\" => 1)\n",
    "end\n"
   ]
  },
  {
   "cell_type": "code",
   "execution_count": 53,
   "metadata": {},
   "outputs": [
    {
     "data": {
      "text/plain": [
       "178"
      ]
     },
     "execution_count": 53,
     "metadata": {},
     "output_type": "execute_result"
    }
   ],
   "source": [
    "# To submit your exercise, you need to save your solution in a file called word-count.jl before using the CLI.\n",
    "# You can either create it manually or use the following functions, which will automatically\n",
    "# save every notebook cell starting with `# submit` in that file.\n",
    "\n",
    "# Pkg.add(\"Exercism\")\n",
    "using Exercism\n",
    "Exercism.create_submission(\"word-count\")\n"
   ]
  },
  {
   "cell_type": "code",
   "execution_count": 3,
   "metadata": {},
   "outputs": [
    {
     "name": "stdout",
     "output_type": "stream",
     "text": [
      "\u001b[32m\u001b[1m  Updating\u001b[22m\u001b[39m registry at `~/.julia/registries/General`\n",
      "\u001b[32m\u001b[1m  Updating\u001b[22m\u001b[39m git-repo `https://github.com/JuliaRegistries/General.git`\n",
      "\u001b[2K\u001b[?25h[1mFetching:\u001b[22m\u001b[39m [========================================>]  100.0 %.0 %]  62.2 %\u001b[32m\u001b[1m Resolving\u001b[22m\u001b[39m package versions...\n",
      "\u001b[32m\u001b[1m Installed\u001b[22m\u001b[39m GR ─ v0.39.0\n",
      "\u001b[32m\u001b[1m  Updating\u001b[22m\u001b[39m `~/.julia/environments/v1.1/Project.toml`\n",
      " \u001b[90m [2913bbd2]\u001b[39m\u001b[92m + StatsBase v0.29.0\u001b[39m\n",
      "\u001b[32m\u001b[1m  Updating\u001b[22m\u001b[39m `~/.julia/environments/v1.1/Manifest.toml`\n",
      " \u001b[90m [28b8d3ca]\u001b[39m\u001b[93m ↑ GR v0.38.1 ⇒ v0.39.0\u001b[39m\n",
      "\u001b[32m\u001b[1m  Building\u001b[22m\u001b[39m GR → `~/.julia/packages/GR/Q8slp/deps/build.log`\n"
     ]
    }
   ],
   "source": [
    "import Pkg; Pkg.add(\"StatsBase\")"
   ]
  },
  {
   "cell_type": "code",
   "execution_count": 5,
   "metadata": {},
   "outputs": [],
   "source": [
    "using StatsBase"
   ]
  },
  {
   "cell_type": "code",
   "execution_count": 6,
   "metadata": {},
   "outputs": [
    {
     "data": {
      "text/plain": [
       "Dict{Int64,Int64} with 6 entries:\n",
       "  4 => 1\n",
       "  2 => 1\n",
       "  3 => 3\n",
       "  5 => 1\n",
       "  6 => 1\n",
       "  1 => 1"
      ]
     },
     "execution_count": 6,
     "metadata": {},
     "output_type": "execute_result"
    }
   ],
   "source": [
    "countmap([1,2,3,3,3,4,5,6])"
   ]
  },
  {
   "cell_type": "code",
   "execution_count": 36,
   "metadata": {},
   "outputs": [
    {
     "name": "stdout",
     "output_type": "stream",
     "text": [
      "search: \u001b[0m\u001b[1ms\u001b[22m\u001b[0m\u001b[1mp\u001b[22m\u001b[0m\u001b[1ml\u001b[22m\u001b[0m\u001b[1mi\u001b[22m\u001b[0m\u001b[1mt\u001b[22m \u001b[0m\u001b[1ms\u001b[22m\u001b[0m\u001b[1mp\u001b[22m\u001b[0m\u001b[1ml\u001b[22m\u001b[0m\u001b[1mi\u001b[22m\u001b[0m\u001b[1mt\u001b[22mext \u001b[0m\u001b[1ms\u001b[22m\u001b[0m\u001b[1mp\u001b[22m\u001b[0m\u001b[1ml\u001b[22m\u001b[0m\u001b[1mi\u001b[22m\u001b[0m\u001b[1mt\u001b[22mdir \u001b[0m\u001b[1ms\u001b[22m\u001b[0m\u001b[1mp\u001b[22m\u001b[0m\u001b[1ml\u001b[22m\u001b[0m\u001b[1mi\u001b[22m\u001b[0m\u001b[1mt\u001b[22mpath \u001b[0m\u001b[1ms\u001b[22m\u001b[0m\u001b[1mp\u001b[22m\u001b[0m\u001b[1ml\u001b[22m\u001b[0m\u001b[1mi\u001b[22m\u001b[0m\u001b[1mt\u001b[22mdrive r\u001b[0m\u001b[1ms\u001b[22m\u001b[0m\u001b[1mp\u001b[22m\u001b[0m\u001b[1ml\u001b[22m\u001b[0m\u001b[1mi\u001b[22m\u001b[0m\u001b[1mt\u001b[22m \u001b[0m\u001b[1ms\u001b[22m\u001b[0m\u001b[1mp\u001b[22m\u001b[0m\u001b[1ml\u001b[22m\u001b[0m\u001b[1mi\u001b[22mce! di\u001b[0m\u001b[1ms\u001b[22m\u001b[0m\u001b[1mp\u001b[22m\u001b[0m\u001b[1ml\u001b[22mays\u001b[0m\u001b[1mi\u001b[22mze\n",
      "\n"
     ]
    },
    {
     "data": {
      "text/latex": [
       "\\begin{verbatim}\n",
       "split(str::AbstractString, dlm; limit::Integer=0, keepempty::Bool=true)\n",
       "split(str::AbstractString; limit::Integer=0, keepempty::Bool=false)\n",
       "\\end{verbatim}\n",
       "Split \\texttt{str} into an array of substrings on occurrences of the delimiter(s) \\texttt{dlm}.  \\texttt{dlm} can be any of the formats allowed by \\href{@ref}{\\texttt{findnext}}'s first argument (i.e. as a string, regular expression or a function), or as a single character or collection of characters.\n",
       "\n",
       "If \\texttt{dlm} is omitted, it defaults to \\href{@ref}{\\texttt{isspace}}.\n",
       "\n",
       "The optional keyword arguments are:\n",
       "\n",
       "\\begin{itemize}\n",
       "\\item \\texttt{limit}: the maximum size of the result. \\texttt{limit=0} implies no maximum (default)\n",
       "\n",
       "\n",
       "\\item \\texttt{keepempty}: whether empty fields should be kept in the result. Default is \\texttt{false} without a \\texttt{dlm} argument, \\texttt{true} with a \\texttt{dlm} argument.\n",
       "\n",
       "\\end{itemize}\n",
       "See also \\href{@ref}{\\texttt{rsplit}}.\n",
       "\n",
       "\\section{Examples}\n",
       "\\begin{verbatim}\n",
       "julia> a = \"Ma.rch\"\n",
       "\"Ma.rch\"\n",
       "\n",
       "julia> split(a,\".\")\n",
       "2-element Array{SubString{String},1}:\n",
       " \"Ma\"\n",
       " \"rch\"\n",
       "\\end{verbatim}\n"
      ],
      "text/markdown": [
       "```\n",
       "split(str::AbstractString, dlm; limit::Integer=0, keepempty::Bool=true)\n",
       "split(str::AbstractString; limit::Integer=0, keepempty::Bool=false)\n",
       "```\n",
       "\n",
       "Split `str` into an array of substrings on occurrences of the delimiter(s) `dlm`.  `dlm` can be any of the formats allowed by [`findnext`](@ref)'s first argument (i.e. as a string, regular expression or a function), or as a single character or collection of characters.\n",
       "\n",
       "If `dlm` is omitted, it defaults to [`isspace`](@ref).\n",
       "\n",
       "The optional keyword arguments are:\n",
       "\n",
       "  * `limit`: the maximum size of the result. `limit=0` implies no maximum (default)\n",
       "  * `keepempty`: whether empty fields should be kept in the result. Default is `false` without a `dlm` argument, `true` with a `dlm` argument.\n",
       "\n",
       "See also [`rsplit`](@ref).\n",
       "\n",
       "# Examples\n",
       "\n",
       "```jldoctest\n",
       "julia> a = \"Ma.rch\"\n",
       "\"Ma.rch\"\n",
       "\n",
       "julia> split(a,\".\")\n",
       "2-element Array{SubString{String},1}:\n",
       " \"Ma\"\n",
       " \"rch\"\n",
       "```\n"
      ],
      "text/plain": [
       "\u001b[36m  split(str::AbstractString, dlm; limit::Integer=0, keepempty::Bool=true)\u001b[39m\n",
       "\u001b[36m  split(str::AbstractString; limit::Integer=0, keepempty::Bool=false)\u001b[39m\n",
       "\n",
       "  Split \u001b[36mstr\u001b[39m into an array of substrings on occurrences of the delimiter(s)\n",
       "  \u001b[36mdlm\u001b[39m. \u001b[36mdlm\u001b[39m can be any of the formats allowed by \u001b[36mfindnext\u001b[39m's first argument\n",
       "  (i.e. as a string, regular expression or a function), or as a single\n",
       "  character or collection of characters.\n",
       "\n",
       "  If \u001b[36mdlm\u001b[39m is omitted, it defaults to \u001b[36misspace\u001b[39m.\n",
       "\n",
       "  The optional keyword arguments are:\n",
       "\n",
       "    •    \u001b[36mlimit\u001b[39m: the maximum size of the result. \u001b[36mlimit=0\u001b[39m implies no maximum\n",
       "        (default)\n",
       "\n",
       "    •    \u001b[36mkeepempty\u001b[39m: whether empty fields should be kept in the result.\n",
       "        Default is \u001b[36mfalse\u001b[39m without a \u001b[36mdlm\u001b[39m argument, \u001b[36mtrue\u001b[39m with a \u001b[36mdlm\u001b[39m argument.\n",
       "\n",
       "  See also \u001b[36mrsplit\u001b[39m.\n",
       "\n",
       "\u001b[1m  Examples\u001b[22m\n",
       "\u001b[1m  ≡≡≡≡≡≡≡≡≡≡\u001b[22m\n",
       "\n",
       "\u001b[36m  julia> a = \"Ma.rch\"\u001b[39m\n",
       "\u001b[36m  \"Ma.rch\"\u001b[39m\n",
       "\u001b[36m  \u001b[39m\n",
       "\u001b[36m  julia> split(a,\".\")\u001b[39m\n",
       "\u001b[36m  2-element Array{SubString{String},1}:\u001b[39m\n",
       "\u001b[36m   \"Ma\"\u001b[39m\n",
       "\u001b[36m   \"rch\"\u001b[39m"
      ]
     },
     "execution_count": 36,
     "metadata": {},
     "output_type": "execute_result"
    }
   ],
   "source": [
    "?split"
   ]
  },
  {
   "cell_type": "code",
   "execution_count": 24,
   "metadata": {},
   "outputs": [
    {
     "data": {
      "text/plain": [
       "Dict{SubString{String},Int64} with 4 entries:\n",
       "  \"there\" => 1\n",
       "  \"HEllo\" => 1\n",
       "  \"sonny\" => 1\n",
       "  \"jim\"   => 1"
      ]
     },
     "execution_count": 24,
     "metadata": {},
     "output_type": "execute_result"
    }
   ],
   "source": [
    "temp(\"HEllo!!!!! there sonny jim\")"
   ]
  },
  {
   "cell_type": "code",
   "execution_count": null,
   "metadata": {
    "collapsed": true
   },
   "outputs": [],
   "source": []
  }
 ],
 "metadata": {
  "kernelspec": {
   "display_name": "Julia 1.1.0",
   "language": "julia",
   "name": "julia-1.1"
  },
  "language_info": {
   "file_extension": ".jl",
   "mimetype": "application/julia",
   "name": "julia",
   "version": "1.1.0"
  }
 },
 "nbformat": 4,
 "nbformat_minor": 2
}
