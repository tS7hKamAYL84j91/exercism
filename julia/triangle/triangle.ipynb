{
 "cells": [
  {
   "cell_type": "markdown",
   "metadata": {},
   "source": [
    "# Triangle\n",
    "\n",
    "Determine if a triangle is equilateral, isosceles, or scalene.\n",
    "\n",
    "An _equilateral_ triangle has all three sides the same length.\n",
    "\n",
    "An _isosceles_ triangle has at least two sides the same length. (It is sometimes\n",
    "specified as having exactly two sides the same length, but for the purposes of\n",
    "this exercise we'll say at least two.)\n",
    "\n",
    "A _scalene_ triangle has all sides of different lengths.\n",
    "\n",
    "## Note\n",
    "\n",
    "For a shape to be a triangle at all, all sides have to be of length > 0, and\n",
    "the sum of the lengths of any two sides must be greater than or equal to the\n",
    "length of the third side. See [Triangle Inequality](https://en.wikipedia.org/wiki/Triangle_inequality).\n",
    "\n",
    "## Dig Deeper\n",
    "\n",
    "The case where the sum of the lengths of two sides _equals_ that of the\n",
    "third is known as a _degenerate_ triangle - it has zero area and looks like\n",
    "a single line. Feel free to add your own code/tests to check for degenerate triangles.\n",
    "## Source\n",
    "\n",
    "The Ruby Koans triangle project, parts 1 & 2 [http://rubykoans.com](http://rubykoans.com)\n",
    "\n",
    "\n",
    "## Version compatibility\n",
    "This exercise has been tested on Julia versions >=1.0.\n",
    "\n",
    "## Submitting Incomplete Solutions\n",
    "It's possible to submit an incomplete solution so you can see how others have completed the exercise.\n"
   ]
  },
  {
   "cell_type": "code",
   "execution_count": 26,
   "metadata": {},
   "outputs": [
    {
     "data": {
      "text/plain": [
       "is_scalene (generic function with 1 method)"
      ]
     },
     "execution_count": 26,
     "metadata": {},
     "output_type": "execute_result"
    }
   ],
   "source": [
    "# submit\n",
    "is_triangle(sides) = length(sides) == 3 && minimum(sides) > 0 && sort(sides) |> a -> a[3] <= a[1] + a[2]\n",
    "count_unique(xs) =  xs |> Set |> length\n",
    "\n",
    "is_equilateral(sides) = is_triangle(sides) && count_unique(sides) == 1\n",
    "is_isosceles(sides) = is_triangle(sides) && count_unique(sides) <= 2\n",
    "is_scalene(sides) = is_triangle(sides) && count_unique(sides) <= 3\n"
   ]
  },
  {
   "cell_type": "code",
   "execution_count": 18,
   "metadata": {},
   "outputs": [
    {
     "name": "stdout",
     "output_type": "stream",
     "text": [
      "\u001b[37m\u001b[1mTest Summary:               | \u001b[22m\u001b[39m\u001b[32m\u001b[1mPass  \u001b[22m\u001b[39m\u001b[36m\u001b[1mTotal\u001b[22m\u001b[39m\n",
      "check equilateral triangles | \u001b[32m   5  \u001b[39m\u001b[36m    5\u001b[39m\n",
      "\u001b[37m\u001b[1mTest Summary:             | \u001b[22m\u001b[39m\u001b[32m\u001b[1mPass  \u001b[22m\u001b[39m\u001b[36m\u001b[1mTotal\u001b[22m\u001b[39m\n",
      "check isosceles triangles | \u001b[32m   9  \u001b[39m\u001b[36m    9\u001b[39m\n",
      "\u001b[37m\u001b[1mTest Summary:           | \u001b[22m\u001b[39m\u001b[32m\u001b[1mPass  \u001b[22m\u001b[39m\u001b[36m\u001b[1mTotal\u001b[22m\u001b[39m\n",
      "check scalene triangles | \u001b[32m  10  \u001b[39m\u001b[36m   10\u001b[39m\n"
     ]
    },
    {
     "data": {
      "text/plain": [
       "Test.DefaultTestSet(\"check scalene triangles\", Any[DefaultTestSet(\"true if no sides are equal\", Any[], 2, false), DefaultTestSet(\"false if at least 2 sides are equal\", Any[], 7, false), DefaultTestSet(\"false if invalid triangle\", Any[], 1, false)], 0, false)"
      ]
     },
     "execution_count": 18,
     "metadata": {},
     "output_type": "execute_result"
    }
   ],
   "source": [
    "using Test\n",
    "\n",
    "# include(\"triangle.jl\")\n",
    "\n",
    "@testset \"check equilateral triangles\" begin\n",
    "    @testset \"true if all sides are equal\" begin\n",
    "        @test is_equilateral([2, 2, 2]) == true\n",
    "        @test is_equilateral([0.5, 0.5, 0.5]) == true\n",
    "    end\n",
    "\n",
    "    @testset \"false if any side is unequal\" begin\n",
    "        @test is_equilateral([2, 3, 2]) == false\n",
    "    end\n",
    "\n",
    "    @testset \"false if no sides are equal\" begin\n",
    "        @test is_equilateral([5, 4, 6]) == false\n",
    "    end\n",
    "\n",
    "    @testset \"false if invalid triangle\" begin\n",
    "        @test is_equilateral([0, 0, 0]) == false\n",
    "    end\n",
    "end\n",
    "\n",
    "@testset \"check isosceles triangles\" begin\n",
    "    @testset \"true if at least 2 sides are equal\" begin\n",
    "        @test is_isosceles([3, 4, 4]) == true\n",
    "        @test is_isosceles([4, 3, 4]) == true\n",
    "        @test is_isosceles([4, 4, 3]) == true\n",
    "        @test is_isosceles([4, 4, 4]) == true\n",
    "        @test is_isosceles([0.4, 0.5, 0.5]) == true\n",
    "        @test is_isosceles([0.5, 0.4, 0.5]) == true\n",
    "        @test is_isosceles([0.5, 0.5, 0.4]) == true\n",
    "    end\n",
    "\n",
    "    @testset \"false if no sides are equal\" begin\n",
    "        @test is_isosceles([2, 3, 4]) == false\n",
    "    end\n",
    "\n",
    "    @testset \"false if invalid triangle\" begin\n",
    "        @test is_isosceles([1, 1, 3]) == false\n",
    "    end\n",
    "end\n",
    "\n",
    "\n",
    "@testset \"check scalene triangles\" begin\n",
    "    @testset \"true if no sides are equal\" begin\n",
    "        @test is_scalene([5, 4, 6]) == true\n",
    "        @test is_scalene([0.5, 0.4, 0.6]) == true\n",
    "    end\n",
    "\n",
    "    @testset \"false if at least 2 sides are equal\" begin\n",
    "        @test is_scalene([3, 4, 4]) == false\n",
    "        @test is_scalene([4, 3, 4]) == false\n",
    "        @test is_scalene([4, 4, 3]) == false\n",
    "        @test is_scalene([4, 4, 4]) == false\n",
    "        @test is_scalene([0.4, 0.5, 0.5]) == false\n",
    "        @test is_scalene([0.5, 0.4, 0.5]) == false\n",
    "        @test is_scalene([0.5, 0.5, 0.4]) == false\n",
    "    end\n",
    "\n",
    "    @testset \"false if invalid triangle\" begin\n",
    "        @test is_scalene([7, 3, 2]) == false\n",
    "    end\n",
    "end\n"
   ]
  },
  {
   "cell_type": "code",
   "execution_count": 20,
   "metadata": {},
   "outputs": [
    {
     "name": "stdout",
     "output_type": "stream",
     "text": [
      "\u001b[32m\u001b[1m  Updating\u001b[22m\u001b[39m registry at `~/.julia/registries/General`\n",
      "\u001b[32m\u001b[1m  Updating\u001b[22m\u001b[39m git-repo `https://github.com/JuliaRegistries/General.git`\n",
      "\u001b[2K\u001b[?25h[1mFetching:\u001b[22m\u001b[39m [========================================>]  100.0 %.0 %\u001b[32m\u001b[1m Resolving\u001b[22m\u001b[39m package versions...\n",
      "\u001b[32m\u001b[1m  Updating\u001b[22m\u001b[39m `~/.julia/environments/v1.1/Project.toml`\n",
      "\u001b[90m [no changes]\u001b[39m\n",
      "\u001b[32m\u001b[1m  Updating\u001b[22m\u001b[39m `~/.julia/environments/v1.1/Manifest.toml`\n",
      "\u001b[90m [no changes]\u001b[39m\n"
     ]
    },
    {
     "data": {
      "text/plain": [
       "379"
      ]
     },
     "execution_count": 20,
     "metadata": {},
     "output_type": "execute_result"
    }
   ],
   "source": [
    "# To submit your exercise, you need to save your solution in a file called triangle.jl before using the CLI.\n",
    "# You can either create it manually or use the following functions, which will automatically\n",
    "# save every notebook cell starting with `# submit` in that file.\n",
    "using Pkg\n",
    "Pkg.add(\"Exercism\")\n",
    "using Exercism\n",
    "Exercism.create_submission(\"triangle\")\n"
   ]
  },
  {
   "cell_type": "code",
   "execution_count": 23,
   "metadata": {},
   "outputs": [
    {
     "data": {
      "text/plain": [
       "Dict{Symbol,Int64} with 1 entry:\n",
       "  :all_same => 1"
      ]
     },
     "execution_count": 23,
     "metadata": {},
     "output_type": "execute_result"
    }
   ],
   "source": [
    "Dict(:all_same_length => 1, :two_same_length => 2, :none_same_length => 3)"
   ]
  },
  {
   "cell_type": "code",
   "execution_count": 25,
   "metadata": {},
   "outputs": [
    {
     "data": {
      "text/plain": [
       "true"
      ]
     },
     "execution_count": 25,
     "metadata": {},
     "output_type": "execute_result"
    }
   ],
   "source": [
    "(<=)(1, 2)"
   ]
  },
  {
   "cell_type": "code",
   "execution_count": 27,
   "metadata": {},
   "outputs": [
    {
     "data": {
      "text/plain": [
       "triangle_with_unique_sides (generic function with 1 method)"
      ]
     },
     "execution_count": 27,
     "metadata": {},
     "output_type": "execute_result"
    }
   ],
   "source": [
    "triangle_with_unique_sides(sides, f, x) = is_triangle(sides) && f(count_unique(sides), x)"
   ]
  },
  {
   "cell_type": "code",
   "execution_count": null,
   "metadata": {
    "collapsed": true
   },
   "outputs": [],
   "source": []
  }
 ],
 "metadata": {
  "kernelspec": {
   "display_name": "Julia 1.1.0",
   "language": "julia",
   "name": "julia-1.1"
  },
  "language_info": {
   "file_extension": ".jl",
   "mimetype": "application/julia",
   "name": "julia",
   "version": "1.1.0"
  }
 },
 "nbformat": 4,
 "nbformat_minor": 2
}
