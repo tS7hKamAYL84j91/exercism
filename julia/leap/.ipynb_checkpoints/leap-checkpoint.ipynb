{
 "cells": [
  {
   "cell_type": "markdown",
   "metadata": {},
   "source": [
    "# Leap\n",
    "\n",
    "Given a year, report if it is a leap year.\n",
    "\n",
    "The tricky thing here is that a leap year in the Gregorian calendar occurs:\n",
    "\n",
    "```text\n",
    "on every year that is evenly divisible by 4\n",
    "  except every year that is evenly divisible by 100\n",
    "    unless the year is also evenly divisible by 400\n",
    "```\n",
    "\n",
    "For example, 1997 is not a leap year, but 1996 is.  1900 is not a leap\n",
    "year, but 2000 is.\n",
    "\n",
    "If your language provides a method in the standard library that does\n",
    "this look-up, pretend it doesn't exist and implement it yourself.\n",
    "\n",
    "## Notes\n",
    "\n",
    "Though our exercise adopts some very simple rules, there is more to\n",
    "learn!\n",
    "\n",
    "For a delightful, four minute explanation of the whole leap year\n",
    "phenomenon, go watch [this youtube video][video].\n",
    "\n",
    "[video]: http://www.youtube.com/watch?v=xX96xng7sAE\n",
    "## Source\n",
    "\n",
    "JavaRanch Cattle Drive, exercise 3 [http://www.javaranch.com/leap.jsp](http://www.javaranch.com/leap.jsp)\n",
    "\n",
    "\n",
    "## Version compatibility\n",
    "This exercise has been tested on Julia versions >=1.0.\n",
    "\n",
    "## Submitting Incomplete Solutions\n",
    "It's possible to submit an incomplete solution so you can see how others have completed the exercise.\n"
   ]
  },
  {
   "cell_type": "code",
   "execution_count": 52,
   "metadata": {},
   "outputs": [
    {
     "data": {
      "text/plain": [
       "is_leap_year (generic function with 1 method)"
      ]
     },
     "execution_count": 52,
     "metadata": {},
     "output_type": "execute_result"
    }
   ],
   "source": [
    "# submit\n",
    "isDivisible(x, y) = x % y == 0 \n",
    "\n",
    "commonLeapYear(x) = isDivisible(x,4) & !isDivisible(x,100)\n",
    "\n",
    "speacialLeapYear(x)= isDivisible(x, 400)\n",
    "\n",
    "is_leap_year(year::Int) = commonLeapYear(year) | isDivisible(year, 400)\n",
    "\n",
    "\n",
    "\n"
   ]
  },
  {
   "cell_type": "code",
   "execution_count": 53,
   "metadata": {},
   "outputs": [
    {
     "name": "stdout",
     "output_type": "stream",
     "text": [
      "\u001b[37m\u001b[1mTest Summary:                        | \u001b[22m\u001b[39m\u001b[32m\u001b[1mPass  \u001b[22m\u001b[39m\u001b[36m\u001b[1mTotal\u001b[22m\u001b[39m\n",
      "Year not divisible by 4: common year | \u001b[32m   1  \u001b[39m\u001b[36m    1\u001b[39m\n",
      "\u001b[37m\u001b[1mTest Summary:                                        | \u001b[22m\u001b[39m\u001b[32m\u001b[1mPass  \u001b[22m\u001b[39m\u001b[36m\u001b[1mTotal\u001b[22m\u001b[39m\n",
      "Year divisible by 4, not divisible by 100: leap year | \u001b[32m   1  \u001b[39m\u001b[36m    1\u001b[39m\n",
      "\u001b[37m\u001b[1mTest Summary:                                            | \u001b[22m\u001b[39m\u001b[32m\u001b[1mPass  \u001b[22m\u001b[39m\u001b[36m\u001b[1mTotal\u001b[22m\u001b[39m\n",
      "Year divisible by 100, not divisible by 400: common year | \u001b[32m   1  \u001b[39m\u001b[36m    1\u001b[39m\n",
      "\u001b[37m\u001b[1mTest Summary:                    | \u001b[22m\u001b[39m\u001b[32m\u001b[1mPass  \u001b[22m\u001b[39m\u001b[36m\u001b[1mTotal\u001b[22m\u001b[39m\n",
      "Year divisible by 400: leap year | \u001b[32m   1  \u001b[39m\u001b[36m    1\u001b[39m\n"
     ]
    },
    {
     "data": {
      "text/plain": [
       "Test.DefaultTestSet(\"Year divisible by 400: leap year\", Any[], 1, false)"
      ]
     },
     "execution_count": 53,
     "metadata": {},
     "output_type": "execute_result"
    }
   ],
   "source": [
    "using Test\n",
    "\n",
    "# include(\"leap.jl\")\n",
    "\n",
    "@testset \"Year not divisible by 4: common year\" begin\n",
    "    @test !is_leap_year(2015)\n",
    "end\n",
    "\n",
    "@testset \"Year divisible by 4, not divisible by 100: leap year\" begin\n",
    "    @test is_leap_year(2016)\n",
    "end\n",
    "\n",
    "@testset \"Year divisible by 100, not divisible by 400: common year\" begin\n",
    "    @test !is_leap_year(2100)\n",
    "end\n",
    "\n",
    "@testset \"Year divisible by 400: leap year\" begin\n",
    "    @test is_leap_year(2000)\n",
    "end\n"
   ]
  },
  {
   "cell_type": "code",
   "execution_count": 2,
   "metadata": {},
   "outputs": [
    {
     "name": "stdout",
     "output_type": "stream",
     "text": [
      "\u001b[32m\u001b[1m  Updating\u001b[22m\u001b[39m registry at `~/.julia/registries/General`\n",
      "\u001b[32m\u001b[1m  Updating\u001b[22m\u001b[39m git-repo `https://github.com/JuliaRegistries/General.git`\n",
      "\u001b[?25l\u001b[2K\u001b[?25h\u001b[32m\u001b[1m Resolving\u001b[22m\u001b[39m package versions...\n",
      "\u001b[32m\u001b[1m Installed\u001b[22m\u001b[39m Exercism ─── v0.1.2\n",
      "\u001b[32m\u001b[1m Installed\u001b[22m\u001b[39m MacroTools ─ v0.4.5\n",
      "\u001b[32m\u001b[1m  Updating\u001b[22m\u001b[39m `~/.julia/environments/v1.1/Project.toml`\n",
      " \u001b[90m [b06d6668]\u001b[39m\u001b[92m + Exercism v0.1.2\u001b[39m\n",
      "\u001b[32m\u001b[1m  Updating\u001b[22m\u001b[39m `~/.julia/environments/v1.1/Manifest.toml`\n",
      " \u001b[90m [b06d6668]\u001b[39m\u001b[92m + Exercism v0.1.2\u001b[39m\n",
      " \u001b[90m [1914dd2f]\u001b[39m\u001b[93m ↑ MacroTools v0.4.4 ⇒ v0.4.5\u001b[39m\n"
     ]
    },
    {
     "name": "stderr",
     "output_type": "stream",
     "text": [
      "┌ Info: Precompiling Exercism [b06d6668-ed87-5b0c-b882-855c8dde7d29]\n",
      "└ @ Base loading.jl:1186\n"
     ]
    }
   ],
   "source": [
    "# To submit your exercise, you need to save your solution in a file called leap.jl before using the CLI.\n",
    "# You can either create it manually or use the following functions, which will automatically\n",
    "# save every notebook cell starting with `# submit` in that file.\n",
    "using Pkg\n",
    "Pkg.add(\"Exercism\")\n",
    "using Exercism\n",
    "# Exercism.create_submission(\"leap\")\n"
   ]
  },
  {
   "cell_type": "code",
   "execution_count": 54,
   "metadata": {},
   "outputs": [
    {
     "data": {
      "text/plain": [
       "210"
      ]
     },
     "execution_count": 54,
     "metadata": {},
     "output_type": "execute_result"
    }
   ],
   "source": [
    "Exercism.create_submission(\"leap\")"
   ]
  },
  {
   "cell_type": "code",
   "execution_count": null,
   "metadata": {},
   "outputs": [],
   "source": []
  }
 ],
 "metadata": {
  "kernelspec": {
   "display_name": "Julia 1.1.0",
   "language": "julia",
   "name": "julia-1.1"
  },
  "language_info": {
   "file_extension": ".jl",
   "mimetype": "application/julia",
   "name": "julia",
   "version": "1.1.0"
  }
 },
 "nbformat": 4,
 "nbformat_minor": 2
}
