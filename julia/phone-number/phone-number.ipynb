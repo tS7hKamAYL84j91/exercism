{
 "cells": [
  {
   "cell_type": "markdown",
   "metadata": {},
   "source": [
    "# Phone Number\n",
    "\n",
    "Clean up user-entered phone numbers so that they can be sent SMS messages.\n",
    "\n",
    "The **North American Numbering Plan (NANP)** is a telephone numbering system used by many countries in North America like the United States, Canada or Bermuda. All NANP-countries share the same international country code: `1`.\n",
    "\n",
    "NANP numbers are ten-digit numbers consisting of a three-digit Numbering Plan Area code, commonly known as *area code*, followed by a seven-digit local number. The first three digits of the local number represent the *exchange code*, followed by the unique four-digit number which is the *subscriber number*.\n",
    "\n",
    "The format is usually represented as\n",
    "\n",
    "```text\n",
    "(NXX)-NXX-XXXX\n",
    "```\n",
    "\n",
    "where `N` is any digit from 2 through 9 and `X` is any digit from 0 through 9.\n",
    "\n",
    "Your task is to clean up differently formatted telephone numbers by removing punctuation and the country code (1) if present.\n",
    "\n",
    "For example, the inputs\n",
    "- `+1 (613)-995-0253`\n",
    "- `613-995-0253`\n",
    "- `1 613 995 0253`\n",
    "- `613.995.0253`\n",
    "\n",
    "should all produce the output\n",
    "\n",
    "`6139950253`\n",
    "\n",
    "**Note:** As this exercise only deals with telephone numbers used in NANP-countries, only 1 is considered a valid country code.\n",
    "## Source\n",
    "\n",
    "Event Manager by JumpstartLab [http://tutorials.jumpstartlab.com/projects/eventmanager.html](http://tutorials.jumpstartlab.com/projects/eventmanager.html)\n",
    "\n",
    "\n",
    "## Version compatibility\n",
    "This exercise has been tested on Julia versions >=1.0.\n",
    "\n",
    "## Submitting Incomplete Solutions\n",
    "It's possible to submit an incomplete solution so you can see how others have completed the exercise.\n"
   ]
  },
  {
   "cell_type": "code",
   "execution_count": 8,
   "metadata": {},
   "outputs": [
    {
     "data": {
      "text/plain": [
       "clean (generic function with 1 method)"
      ]
     },
     "execution_count": 8,
     "metadata": {},
     "output_type": "execute_result"
    }
   ],
   "source": [
    "# submit\n",
    "\n",
    "\n",
    "function clean(phone_number)\n",
    "    numbers = filter(x -> isdigit(x), phone_number)\n",
    "    length(numbers) == 10 || length(numbers) == 11 && numbers[1] == '1' || return nothing\n",
    "    m = match(r\"[1]?([2-9]\\d{2}[2-9]\\d{6})\", numbers)\n",
    "    println(m)\n",
    "    m !== nothing ? m.captures[1] : nothing\n",
    "end"
   ]
  },
  {
   "cell_type": "code",
   "execution_count": 9,
   "metadata": {},
   "outputs": [
    {
     "name": "stdout",
     "output_type": "stream",
     "text": [
      "RegexMatch(\"2234567890\", 1=\"2234567890\")\n",
      "RegexMatch(\"2234567890\", 1=\"2234567890\")\n",
      "RegexMatch(\"2234567890\", 1=\"2234567890\")\n",
      "\u001b[37m\u001b[1mTest Summary:         | \u001b[22m\u001b[39m\u001b[32m\u001b[1mPass  \u001b[22m\u001b[39m\u001b[36m\u001b[1mTotal\u001b[22m\u001b[39m\n",
      "clean 10-digit number | \u001b[32m   3  \u001b[39m\u001b[36m    3\u001b[39m\n"
     ]
    },
    {
     "ename": "LoadError",
     "evalue": "Expected begin/end block or for loop as argument to @testset",
     "output_type": "error",
     "traceback": [
      "Expected begin/end block or for loop as argument to @testset",
      "",
      "Stacktrace:",
      " [1] error(::String) at ./error.jl:33",
      " [2] @testset(::LineNumberNode, ::Module, ::Vararg{Any,N} where N) at /Users/osx/buildbot/slave/package_osx64/build/usr/share/julia/stdlib/v1.1/Test/src/Test.jl:1041"
     ]
    }
   ],
   "source": [
    "using Test\n",
    "\n",
    "# include(\"phone-number.jl\")\n",
    "\n",
    "\n",
    "# Tests adapted from `problem-specifications//canonical-data.json` @ v1.2.0\n",
    "# Returns the cleaned phone number as a digit string if given number is valid,\n",
    "# else returns `nothing`.\n",
    "\n",
    "const expected_number = \"2234567890\"\n",
    "const valid_10digit_num = (\n",
    "        \"(223) 456-7890\",\n",
    "        \"223.456.7890\",\n",
    "        \"223 456   7890   \",\n",
    ")\n",
    "const valid_11digit_num = (\n",
    "        \"12234567890\",\n",
    "        \"  1 223 456 7890 \",\n",
    "        \"+1 (223) 456-7890\",\n",
    ")\n",
    "const invalid_num = (\n",
    "        \"1223456789\",\n",
    "        \"22234567890\",\n",
    "        \"321234567890\",\n",
    "        \"223-abc-7890\",\n",
    "        \"223-@:!-7890\",\n",
    "        \"(023) 456-7890\",\n",
    "        \"(123) 456-7890\",\n",
    "        \"(223) 056-7890\",\n",
    "        \"(223) 156-7890\",\n",
    ")\n",
    "\n",
    "@testset \"clean 10-digit number\" begin\n",
    "    @testset \"$number\" for number in valid_10digit_num\n",
    "        @test clean(number) == expected_number\n",
    "    end\n",
    "end\n",
    "\n",
    "@testset \"clean 11-digit number starting with 1\" begin\n",
    "    @testset \"$number\" for number in valid_11digit_num\n",
    "        @test clean(number) == expected_number\n",
    "    end\n",
    "    end|\n",
    "\n",
    "@testset \"detect invalid number\" begin\n",
    "    @testset \"$number\" for number in invalid_num\n",
    "        @test clean(number) == nothing\n",
    "    end\n",
    "end\n"
   ]
  },
  {
   "cell_type": "code",
   "execution_count": null,
   "metadata": {
    "collapsed": true
   },
   "outputs": [],
   "source": [
    "# To submit your exercise, you need to save your solution in a file called phone-number.jl before using the CLI.\n",
    "# You can either create it manually or use the following functions, which will automatically\n",
    "# save every notebook cell starting with `# submit` in that file.\n",
    "\n",
    "# Pkg.add(\"Exercism\")\n",
    "# using Exercism\n",
    "# Exercism.create_submission(\"phone-number\")\n"
   ]
  },
  {
   "cell_type": "code",
   "execution_count": 3,
   "metadata": {},
   "outputs": [
    {
     "data": {
      "text/plain": [
       "r\"^(?:\\+?1[-. ]*)?\\(?([2-9]{1}[0-9]{2})\\)?[-. ]*([2-9]{1}[0-9]{2})[-. ]*([0-9]{4})$\""
      ]
     },
     "execution_count": 3,
     "metadata": {},
     "output_type": "execute_result"
    }
   ],
   "source": [
    "nan = r\"^(?:\\+?1[-. ]*)?\\(?([2-9]{1}[0-9]{2})\\)?[-. ]*([2-9]{1}[0-9]{2})[-. ]*([0-9]{4})$\""
   ]
  },
  {
   "cell_type": "code",
   "execution_count": 5,
   "metadata": {},
   "outputs": [
    {
     "data": {
      "text/plain": [
       "\"223\""
      ]
     },
     "execution_count": 5,
     "metadata": {},
     "output_type": "execute_result"
    }
   ],
   "source": [
    "match(nan, \"(223) 456-7890\") |> m -> m.captures[1]"
   ]
  },
  {
   "cell_type": "code",
   "execution_count": 18,
   "metadata": {},
   "outputs": [
    {
     "data": {
      "text/plain": [
       "\"123\""
      ]
     },
     "execution_count": 18,
     "metadata": {},
     "output_type": "execute_result"
    }
   ],
   "source": [
    "[1,2,3] |> join"
   ]
  },
  {
   "cell_type": "code",
   "execution_count": null,
   "metadata": {
    "collapsed": true
   },
   "outputs": [],
   "source": [
    " "
   ]
  }
 ],
 "metadata": {
  "kernelspec": {
   "display_name": "Julia 1.1.0",
   "language": "julia",
   "name": "julia-1.1"
  },
  "language_info": {
   "file_extension": ".jl",
   "mimetype": "application/julia",
   "name": "julia",
   "version": "1.1.0"
  }
 },
 "nbformat": 4,
 "nbformat_minor": 2
}
