{
 "cells": [
  {
   "cell_type": "markdown",
   "metadata": {},
   "source": [
    "# Gigasecond\n",
    "\n",
    "Given a moment, determine the moment that would be after a gigasecond\n",
    "has passed.\n",
    "\n",
    "A gigasecond is 10^9 (1,000,000,000) seconds.\n",
    "## Source\n",
    "\n",
    "Chapter 9 in Chris Pine's online Learn to Program tutorial. [http://pine.fm/LearnToProgram/?Chapter=09](http://pine.fm/LearnToProgram/?Chapter=09)\n",
    "\n",
    "\n",
    "## Version compatibility\n",
    "This exercise has been tested on Julia versions >=1.0.\n",
    "\n",
    "## Submitting Incomplete Solutions\n",
    "It's possible to submit an incomplete solution so you can see how others have completed the exercise.\n"
   ]
  },
  {
   "cell_type": "code",
   "execution_count": 10,
   "metadata": {},
   "outputs": [
    {
     "data": {
      "text/plain": [
       "add_gigasecond (generic function with 1 method)"
      ]
     },
     "execution_count": 10,
     "metadata": {},
     "output_type": "execute_result"
    }
   ],
   "source": [
    "# submit\n",
    "add_gigasecond(date::DateTime) = DateTime(date) + Dates.Second(10^9)"
   ]
  },
  {
   "cell_type": "code",
   "execution_count": 11,
   "metadata": {},
   "outputs": [
    {
     "name": "stdout",
     "output_type": "stream",
     "text": [
      "\u001b[37m\u001b[1mTest Summary:                                                   | \u001b[22m\u001b[39m\u001b[32m\u001b[1mPass  \u001b[22m\u001b[39m\u001b[36m\u001b[1mTotal\u001b[22m\u001b[39m\n",
      "add gigasecond to 2015-01-24T23:59:59 => 2046-10-03T01:46:39[1] | \u001b[32m   1  \u001b[39m\u001b[36m    1\u001b[39m\n",
      "\u001b[37m\u001b[1mTest Summary:                                                   | \u001b[22m\u001b[39m\u001b[32m\u001b[1mPass  \u001b[22m\u001b[39m\u001b[36m\u001b[1mTotal\u001b[22m\u001b[39m\n",
      "add gigasecond to 1977-06-13T00:00:00 => 2009-02-19T01:46:40[1] | \u001b[32m   1  \u001b[39m\u001b[36m    1\u001b[39m\n",
      "\u001b[37m\u001b[1mTest Summary:                                                   | \u001b[22m\u001b[39m\u001b[32m\u001b[1mPass  \u001b[22m\u001b[39m\u001b[36m\u001b[1mTotal\u001b[22m\u001b[39m\n",
      "add gigasecond to 1959-07-19T00:00:00 => 1991-03-27T01:46:40[1] | \u001b[32m   1  \u001b[39m\u001b[36m    1\u001b[39m\n",
      "\u001b[37m\u001b[1mTest Summary:                                                   | \u001b[22m\u001b[39m\u001b[32m\u001b[1mPass  \u001b[22m\u001b[39m\u001b[36m\u001b[1mTotal\u001b[22m\u001b[39m\n",
      "add gigasecond to 2015-01-24T22:00:00 => 2046-10-02T23:46:40[1] | \u001b[32m   1  \u001b[39m\u001b[36m    1\u001b[39m\n",
      "\u001b[37m\u001b[1mTest Summary:                                                   | \u001b[22m\u001b[39m\u001b[32m\u001b[1mPass  \u001b[22m\u001b[39m\u001b[36m\u001b[1mTotal\u001b[22m\u001b[39m\n",
      "add gigasecond to 2011-04-25T00:00:00 => 2043-01-01T01:46:40[1] | \u001b[32m   1  \u001b[39m\u001b[36m    1\u001b[39m\n"
     ]
    },
    {
     "data": {
      "text/plain": [
       "5-element Array{Any,1}:\n",
       " Test.DefaultTestSet(\"add gigasecond to 2015-01-24T23:59:59 => 2046-10-03T01:46:39[1]\", Any[], 1, false)\n",
       " Test.DefaultTestSet(\"add gigasecond to 1977-06-13T00:00:00 => 2009-02-19T01:46:40[1]\", Any[], 1, false)\n",
       " Test.DefaultTestSet(\"add gigasecond to 1959-07-19T00:00:00 => 1991-03-27T01:46:40[1]\", Any[], 1, false)\n",
       " Test.DefaultTestSet(\"add gigasecond to 2015-01-24T22:00:00 => 2046-10-02T23:46:40[1]\", Any[], 1, false)\n",
       " Test.DefaultTestSet(\"add gigasecond to 2011-04-25T00:00:00 => 2043-01-01T01:46:40[1]\", Any[], 1, false)"
      ]
     },
     "execution_count": 11,
     "metadata": {},
     "output_type": "execute_result"
    }
   ],
   "source": [
    "using Test\n",
    "using Dates\n",
    "\n",
    "# include(\"gigasecond.jl\")\n",
    "\n",
    "samples = Dict(\n",
    "    DateTime(\"2011-04-25\") => DateTime(\"2043-01-01T01:46:40\"),\n",
    "    DateTime(\"1977-06-13\") => DateTime(\"2009-02-19T01:46:40\"),\n",
    "    DateTime(\"1959-07-19\") => DateTime(\"1991-03-27T01:46:40\"),\n",
    "    DateTime(\"2015-01-24T22:00:00\") => DateTime(\"2046-10-02T23:46:40\"),\n",
    "    DateTime(\"2015-01-24T23:59:59\") => DateTime(\"2046-10-03T01:46:39\")\n",
    ")\n",
    "\n",
    "@testset \"add gigasecond to $sample[1]\" for sample in samples\n",
    "    @test add_gigasecond(sample[1]) == sample[2]\n",
    "end\n"
   ]
  },
  {
   "cell_type": "code",
   "execution_count": 12,
   "metadata": {},
   "outputs": [
    {
     "data": {
      "text/plain": [
       "68"
      ]
     },
     "execution_count": 12,
     "metadata": {},
     "output_type": "execute_result"
    }
   ],
   "source": [
    "# To submit your exercise, you need to save your solution in a file called gigasecond.jl before using the CLI.\n",
    "# You can either create it manually or use the following functions, which will automatically\n",
    "# save every notebook cell starting with `# submit` in that file.\n",
    "\n",
    "# Pkg.add(\"Exercism\")\n",
    "using Exercism\n",
    "Exercism.create_submission(\"gigasecond\")\n"
   ]
  },
  {
   "cell_type": "code",
   "execution_count": 7,
   "metadata": {},
   "outputs": [
    {
     "data": {
      "text/plain": [
       "2043-01-01T01:46:40"
      ]
     },
     "execution_count": 7,
     "metadata": {},
     "output_type": "execute_result"
    }
   ],
   "source": [
    "DateTime(\"2011-04-25\") + Dates.Second(10^9)"
   ]
  },
  {
   "cell_type": "code",
   "execution_count": null,
   "metadata": {
    "collapsed": true
   },
   "outputs": [],
   "source": []
  }
 ],
 "metadata": {
  "kernelspec": {
   "display_name": "Julia 1.1.0",
   "language": "julia",
   "name": "julia-1.1"
  },
  "language_info": {
   "file_extension": ".jl",
   "mimetype": "application/julia",
   "name": "julia",
   "version": "1.1.0"
  }
 },
 "nbformat": 4,
 "nbformat_minor": 2
}
