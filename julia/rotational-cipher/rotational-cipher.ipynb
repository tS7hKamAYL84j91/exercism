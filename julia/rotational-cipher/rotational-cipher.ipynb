{
 "cells": [
  {
   "cell_type": "markdown",
   "metadata": {},
   "source": [
    "# Rotational Cipher\n",
    "\n",
    "Create an implementation of the rotational cipher, also sometimes called the Caesar cipher.\n",
    "\n",
    "The Caesar cipher is a simple shift cipher that relies on\n",
    "transposing all the letters in the alphabet using an integer key\n",
    "between `0` and `26`. Using a key of `0` or `26` will always yield\n",
    "the same output due to modular arithmetic. The letter is shifted\n",
    "for as many values as the value of the key.\n",
    "\n",
    "The general notation for rotational ciphers is `ROT + <key>`.\n",
    "The most commonly used rotational cipher is `ROT13`.\n",
    "\n",
    "A `ROT13` on the Latin alphabet would be as follows:\n",
    "\n",
    "```text\n",
    "Plain:  abcdefghijklmnopqrstuvwxyz\n",
    "Cipher: nopqrstuvwxyzabcdefghijklm\n",
    "```\n",
    "\n",
    "It is stronger than the Atbash cipher because it has 27 possible keys, and 25 usable keys.\n",
    "\n",
    "Ciphertext is written out in the same formatting as the input including spaces and punctuation.\n",
    "\n",
    "## Examples\n",
    "\n",
    "- ROT5  `omg` gives `trl`\n",
    "- ROT0  `c` gives `c`\n",
    "- ROT26 `Cool` gives `Cool`\n",
    "- ROT13 `The quick brown fox jumps over the lazy dog.` gives `Gur dhvpx oebja sbk whzcf bire gur ynml qbt.`\n",
    "- ROT13 `Gur dhvpx oebja sbk whzcf bire gur ynml qbt.` gives `The quick brown fox jumps over the lazy dog.`\n",
    "\n",
    "This is a good exercise to experiment with non-standard string literals and metaprogramming.\n",
    "\n",
    "A short introduction to non-standard string literals can be found in this [blog post](http://iaindunning.com/blog/julia-unicode.html). A detailed metaprogramming guide can be found in the [manual](http://docs.julialang.org/en/stable/manual/metaprogramming/).\n",
    "\n",
    "You can extend your solution by adding the functionality described below. To test your solution, you have to remove the comments at the end of `runtests.jl` before running the tests as usual.\n",
    "\n",
    "Bonus A only requires basics as outlined in the blog post. Bonus B requires significantly more knowledge of metaprogramming in Julia.\n",
    "\n",
    "## Bonus A\n",
    "Implement a string literal that acts as `ROT13` on the string:\n",
    "```julia\n",
    "R13\"abcdefghijklmnopqrstuvwxyz\" == \"nopqrstuvwxyzabcdefghijklm\"\n",
    "```\n",
    "\n",
    "## Bonus B\n",
    "Implement string literals `R<i>`, `i = 0, ..., 26`, that shift the string for `i` values:\n",
    "```julia\n",
    "R0\"Hello, World!\" == \"Hello, World!\"\n",
    "R4\"Testing 1 2 3 testing\" == \"Xiwxmrk 1 2 3 xiwxmrk\"\n",
    "R13\"abcdefghijklmnopqrstuvwxyz\" == \"nopqrstuvwxyzabcdefghijklm\"\n",
    "```\n",
    "\n",
    "## Source\n",
    "\n",
    "Wikipedia [https://en.wikipedia.org/wiki/Caesar_cipher](https://en.wikipedia.org/wiki/Caesar_cipher)\n",
    "\n",
    "\n",
    "## Version compatibility\n",
    "This exercise has been tested on Julia versions >=1.0.\n",
    "\n",
    "## Submitting Incomplete Solutions\n",
    "It's possible to submit an incomplete solution so you can see how others have completed the exercise.\n"
   ]
  },
  {
   "cell_type": "code",
   "execution_count": 3,
   "metadata": {
    "collapsed": true
   },
   "outputs": [],
   "source": [
    "# submit\n",
    "using Match\n",
    "\n",
    "function rotate(r::Int, x::Char)\n",
    "    @match x begin\n",
    "        x, if x ∈'a':'z' end => mod(x -'a'+ r, 26) + 'a'\n",
    "        x, if x ∈'A':'Z' end => mod(x -'A'+ r, 26) + 'A'\n",
    "        x => x\n",
    "    end\n",
    "end\n",
    "\n",
    "rotate(r::Int, x::String) = collect(x) |> xs -> map(x->rotate(r,x), xs) |> join\n",
    "\n",
    "for a in [13,5,21,4] \n",
    "    eval(quote(macro $(Symbol(\"R\" * string(a) * \"_str\"))(p)  rotate($a,p) end) end)\n",
    "end\n"
   ]
  },
  {
   "cell_type": "code",
   "execution_count": 2,
   "metadata": {},
   "outputs": [
    {
     "name": "stdout",
     "output_type": "stream",
     "text": [
      "\u001b[37m\u001b[1mTest Summary:   | \u001b[22m\u001b[39m\u001b[32m\u001b[1mPass  \u001b[22m\u001b[39m\u001b[36m\u001b[1mTotal\u001b[22m\u001b[39m\n",
      "rotate function | \u001b[32m  15  \u001b[39m\u001b[36m   15\u001b[39m\n",
      "\u001b[37m\u001b[1mTest Summary:               | \u001b[22m\u001b[39m\u001b[32m\u001b[1mPass  \u001b[22m\u001b[39m\u001b[36m\u001b[1mTotal\u001b[22m\u001b[39m\n",
      "Bonus A: string literal R13 | \u001b[32m   1  \u001b[39m\u001b[36m    1\u001b[39m\n",
      "\u001b[37m\u001b[1mTest Summary:            | \u001b[22m\u001b[39m\u001b[32m\u001b[1mPass  \u001b[22m\u001b[39m\u001b[36m\u001b[1mTotal\u001b[22m\u001b[39m\n",
      "Bonus B: string literals | \u001b[32m   4  \u001b[39m\u001b[36m    4\u001b[39m\n"
     ]
    },
    {
     "data": {
      "text/plain": [
       "Test.DefaultTestSet(\"Bonus B: string literals\", Any[], 4, false)"
      ]
     },
     "execution_count": 2,
     "metadata": {},
     "output_type": "execute_result"
    }
   ],
   "source": [
    "using Test\n",
    "\n",
    "# include(\"rotational-cipher.jl\")\n",
    "\n",
    "@testset \"rotate function\" begin\n",
    "    @testset \"rotate by n\" begin\n",
    "        @testset \"no wrap\" begin\n",
    "            @test rotate(1, \"a\") == \"b\"\n",
    "            @test rotate(1, 'a') == 'b'\n",
    "            @test rotate(13, \"m\") == \"z\"\n",
    "            @test rotate(13, 'm') == 'z'\n",
    "        end\n",
    "        @testset \"wrap around\" begin\n",
    "            @test rotate(13, \"n\") == \"a\"\n",
    "            @test rotate(13, 'n') == 'a'\n",
    "        end\n",
    "    end\n",
    "\n",
    "    @testset \"full rotation\" begin\n",
    "        @test rotate(26, \"a\") == \"a\"\n",
    "        @test rotate(26, 'a') == 'a'\n",
    "        @test rotate(0, \"a\") == \"a\"\n",
    "        @test rotate(0, 'a') == 'a'\n",
    "    end\n",
    "\n",
    "    @testset \"full strings\" begin\n",
    "        @test rotate(5, \"OMG\") == \"TRL\"\n",
    "        @test rotate(5, \"O M G\") == \"T R L\"\n",
    "        @test rotate(4, \"Testing 1 2 3 testing\") == \"Xiwxmrk 1 2 3 xiwxmrk\"\n",
    "        @test rotate(21, \"Let's eat, Grandma!\") == \"Gzo'n zvo, Bmviyhv!\"\n",
    "        @test rotate(13, \"The quick brown fox jumps over the lazy dog.\") == \"Gur dhvpx oebja sbk whzcf bire gur ynml qbt.\"\n",
    "    end\n",
    "end\n",
    "\n",
    "# # # # # # # # # # # # # # # # # # # # # # # # # # # # # # # # # # # # # # # #\n",
    "# Additional exercises                                                        #\n",
    "# Change @test_skip to @test for the optional bonus exercises from HINTS.md   #\n",
    "# # # # # # # # # # # # # # # # # # # # # # # # # # # # # # # # # # # # # # # #\n",
    "\n",
    "# Bonus A\n",
    "@testset \"Bonus A: string literal R13\" begin\n",
    "    @test R13\"The quick brown fox jumps over the lazy dog.\" == \"Gur dhvpx oebja sbk whzcf bire gur ynml qbt.\"\n",
    "end\n",
    "\n",
    "# Bonus B\n",
    "@testset \"Bonus B: string literals\" begin\n",
    "    @test R5\"OMG\" == \"TRL\"\n",
    "    @test R4\"Testing 1 2 3 testing\" == \"Xiwxmrk 1 2 3 xiwxmrk\"\n",
    "    @test R21\"Let's eat, Grandma!\" == \"Gzo'n zvo, Bmviyhv!\"\n",
    "    @test R13\"The quick brown fox jumps over the lazy dog.\" == \"Gur dhvpx oebja sbk whzcf bire gur ynml qbt.\"\n",
    "end\n"
   ]
  },
  {
   "cell_type": "code",
   "execution_count": 1,
   "metadata": {
    "collapsed": true
   },
   "outputs": [],
   "source": [
    "# To submit your exercise, you need to save your solution in a file called rotational-cipher.jl before using the CLI.\n",
    "# You can either create it manually or use the following functions, which will automatically\n",
    "# save every notebook cell starting with `# submit` in that file.\n",
    "\n",
    "# Pkg.add(\"Exercism\")\n",
    "# using Exercism\n",
    "# Exercism.create_submission(\"rotational-cipher\")\n"
   ]
  },
  {
   "cell_type": "code",
   "execution_count": 57,
   "metadata": {},
   "outputs": [
    {
     "data": {
      "text/plain": [
       "4-element Array{Function,1}:\n",
       " @R13_str\n",
       " @R5_str \n",
       " @R21_str\n",
       " @R4_str "
      ]
     },
     "execution_count": 57,
     "metadata": {},
     "output_type": "execute_result"
    }
   ],
   "source": []
  },
  {
   "cell_type": "code",
   "execution_count": 54,
   "metadata": {},
   "outputs": [
    {
     "data": {
      "text/plain": [
       "\"ab\""
      ]
     },
     "execution_count": 54,
     "metadata": {},
     "output_type": "execute_result"
    }
   ],
   "source": [
    "\"a\"* \"b\""
   ]
  },
  {
   "cell_type": "code",
   "execution_count": 52,
   "metadata": {},
   "outputs": [
    {
     "data": {
      "text/plain": [
       ":R1_str"
      ]
     },
     "execution_count": 52,
     "metadata": {},
     "output_type": "execute_result"
    }
   ],
   "source": [
    ":R1_str"
   ]
  },
  {
   "cell_type": "code",
   "execution_count": 11,
   "metadata": {},
   "outputs": [
    {
     "ename": "LoadError",
     "evalue": "MethodError: no method matching @match(::LineNumberNode, ::Module)\nClosest candidates are:\n  @match(::LineNumberNode, ::Module, !Matched::Any, !Matched::Any) at /Users/jim/.julia/packages/Match/cMtMj/src/matchmacro.jl:430",
     "output_type": "error",
     "traceback": [
      "MethodError: no method matching @match(::LineNumberNode, ::Module)\nClosest candidates are:\n  @match(::LineNumberNode, ::Module, !Matched::Any, !Matched::Any) at /Users/jim/.julia/packages/Match/cMtMj/src/matchmacro.jl:430",
      ""
     ]
    }
   ],
   "source": [
    "x,r = 'a', 13\n",
    "macroexpand(Match,   @match )"
   ]
  },
  {
   "cell_type": "code",
   "execution_count": null,
   "metadata": {
    "collapsed": true
   },
   "outputs": [],
   "source": []
  }
 ],
 "metadata": {
  "kernelspec": {
   "display_name": "Julia 1.1.0",
   "language": "julia",
   "name": "julia-1.1"
  },
  "language_info": {
   "file_extension": ".jl",
   "mimetype": "application/julia",
   "name": "julia",
   "version": "1.1.0"
  }
 },
 "nbformat": 4,
 "nbformat_minor": 2
}
