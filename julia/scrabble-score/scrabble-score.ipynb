{
 "cells": [
  {
   "cell_type": "markdown",
   "metadata": {},
   "source": [
    "# Scrabble Score\n",
    "\n",
    "Given a word, compute the scrabble score for that word.\n",
    "\n",
    "## Letter Values\n",
    "\n",
    "You'll need these:\n",
    "\n",
    "```text\n",
    "Letter                           Value\n",
    "A, E, I, O, U, L, N, R, S, T       1\n",
    "D, G                               2\n",
    "B, C, M, P                         3\n",
    "F, H, V, W, Y                      4\n",
    "K                                  5\n",
    "J, X                               8\n",
    "Q, Z                               10\n",
    "```\n",
    "\n",
    "## Examples\n",
    "\n",
    "\"cabbage\" should be scored as worth 14 points:\n",
    "\n",
    "- 3 points for C\n",
    "- 1 point for A, twice\n",
    "- 3 points for B, twice\n",
    "- 2 points for G\n",
    "- 1 point for E\n",
    "\n",
    "And to total:\n",
    "\n",
    "- `3 + 2*1 + 2*3 + 2 + 1`\n",
    "- = `3 + 2 + 6 + 3`\n",
    "- = `5 + 9`\n",
    "- = 14\n",
    "\n",
    "## Extensions\n",
    "\n",
    "- You can play a double or a triple letter.\n",
    "- You can play a double or a triple word.\n",
    "## Source\n",
    "\n",
    "Inspired by the Extreme Startup game [https://github.com/rchatley/extreme_startup](https://github.com/rchatley/extreme_startup)\n",
    "\n",
    "\n",
    "## Version compatibility\n",
    "This exercise has been tested on Julia versions >=1.0.\n",
    "\n",
    "## Submitting Incomplete Solutions\n",
    "It's possible to submit an incomplete solution so you can see how others have completed the exercise.\n"
   ]
  },
  {
   "cell_type": "code",
   "execution_count": null,
   "metadata": {
    "collapsed": true
   },
   "outputs": [],
   "source": [
    "# submit\n",
    "function score(str::AbstractString)\n",
    "\n",
    "end\n"
   ]
  },
  {
   "cell_type": "code",
   "execution_count": null,
   "metadata": {
    "collapsed": true
   },
   "outputs": [],
   "source": [
    "using Test\n",
    "\n",
    "# include(\"scrabble-score.jl\")\n",
    "\n",
    "@testset \"lowercase letter\" begin\n",
    "    @test score(\"a\") == 1\n",
    "end\n",
    "\n",
    "@testset \"uppercase letter\" begin\n",
    "    @test score(\"A\") == 1\n",
    "end\n",
    "\n",
    "@testset \"valuable letter\" begin\n",
    "    @test score(\"f\") == 4\n",
    "end\n",
    "\n",
    "@testset \"short word\" begin\n",
    "    @test score(\"at\") == 2\n",
    "end\n",
    "\n",
    "@testset \"short, valuable word\" begin\n",
    "    @test score(\"zoo\") == 12\n",
    "end\n",
    "\n",
    "@testset \"medium word\" begin\n",
    "    @test score(\"street\") == 6\n",
    "end\n",
    "\n",
    "@testset \"medium, valuable word\" begin\n",
    "    @test score(\"quirky\") == 22\n",
    "end\n",
    "\n",
    "@testset \"long, mixed-case word\" begin\n",
    "    @test score(\"OxyphenButazone\") == 41\n",
    "end\n",
    "\n",
    "@testset \"english-like word\" begin\n",
    "    @test score(\"pinata\") == 8\n",
    "end\n",
    "\n",
    "@testset \"non-english letter is not scored\" begin\n",
    "    @test score(\"piñata\") == 7\n",
    "end\n",
    "\n",
    "@testset \"empty input\" begin\n",
    "    @test score(\"\") == 0\n",
    "end\n",
    "\n",
    "@testset \"entire alphabet available\" begin\n",
    "    @test score(\"abcdefghijklmnopqrstuvwxyz\") == 87\n",
    "end\n"
   ]
  },
  {
   "cell_type": "code",
   "execution_count": null,
   "metadata": {
    "collapsed": true
   },
   "outputs": [],
   "source": [
    "# To submit your exercise, you need to save your solution in a file called scrabble-score.jl before using the CLI.\n",
    "# You can either create it manually or use the following functions, which will automatically\n",
    "# save every notebook cell starting with `# submit` in that file.\n",
    "\n",
    "# Pkg.add(\"Exercism\")\n",
    "# using Exercism\n",
    "# Exercism.create_submission(\"scrabble-score\")\n"
   ]
  },
  {
   "cell_type": "code",
   "execution_count": 3,
   "metadata": {},
   "outputs": [
    {
     "name": "stdout",
     "output_type": "stream",
     "text": [
      "\u001b[32m\u001b[1m Resolving\u001b[22m\u001b[39m package versions...\n",
      "\u001b[32m\u001b[1m  Updating\u001b[22m\u001b[39m `~/.julia/environments/v1.1/Project.toml`\n",
      "\u001b[90m [no changes]\u001b[39m\n",
      "\u001b[32m\u001b[1m  Updating\u001b[22m\u001b[39m `~/.julia/environments/v1.1/Manifest.toml`\n",
      "\u001b[90m [no changes]\u001b[39m\n"
     ]
    }
   ],
   "source": [
    "using Pkg\n",
    "Pkg.add(\"PyCall\")"
   ]
  },
  {
   "cell_type": "code",
   "execution_count": 6,
   "metadata": {},
   "outputs": [
    {
     "name": "stdout",
     "output_type": "stream",
     "text": [
      "\u001b[32m\u001b[1m  Building\u001b[22m\u001b[39m Conda ─→ `~/.julia/packages/Conda/CpuvI/deps/build.log`\n",
      "\u001b[32m\u001b[1m  Building\u001b[22m\u001b[39m PyCall → `~/.julia/packages/PyCall/a5Jd3/deps/build.log`\n"
     ]
    }
   ],
   "source": [
    "Pkg.build(\"PyCall\")\n"
   ]
  },
  {
   "cell_type": "code",
   "execution_count": 7,
   "metadata": {},
   "outputs": [
    {
     "name": "stderr",
     "output_type": "stream",
     "text": [
      "┌ Info: Precompiling PyCall [438e738f-606a-5dbb-bf0a-cddfbfd45ab0]\n",
      "└ @ Base loading.jl:1186\n"
     ]
    }
   ],
   "source": [
    "using PyCall"
   ]
  },
  {
   "cell_type": "code",
   "execution_count": 17,
   "metadata": {},
   "outputs": [],
   "source": [
    "push!(pyimport(\"sys\").\"path\", pwd());"
   ]
  },
  {
   "cell_type": "code",
   "execution_count": 12,
   "metadata": {},
   "outputs": [
    {
     "name": "stderr",
     "output_type": "stream",
     "text": [
      "┌ Warning: `@pyimport foo` is deprecated in favor of `foo = pyimport(\"foo\")`.\n",
      "│   caller = _pywrap_pyimport(::PyObject) at PyCall.jl:407\n",
      "└ @ PyCall /Users/jim/.julia/packages/PyCall/a5Jd3/src/PyCall.jl:407\n"
     ]
    }
   ],
   "source": [
    "@pyimport score"
   ]
  },
  {
   "cell_type": "code",
   "execution_count": 16,
   "metadata": {},
   "outputs": [
    {
     "data": {
      "text/plain": [
       "8"
      ]
     },
     "execution_count": 16,
     "metadata": {},
     "output_type": "execute_result"
    }
   ],
   "source": [
    "score.score(\"hello\")"
   ]
  },
  {
   "cell_type": "code",
   "execution_count": null,
   "metadata": {
    "collapsed": true
   },
   "outputs": [],
   "source": []
  }
 ],
 "metadata": {
  "kernelspec": {
   "display_name": "Julia 1.1.0",
   "language": "julia",
   "name": "julia-1.1"
  },
  "language_info": {
   "file_extension": ".jl",
   "mimetype": "application/julia",
   "name": "julia",
   "version": "1.1.0"
  }
 },
 "nbformat": 4,
 "nbformat_minor": 2
}
